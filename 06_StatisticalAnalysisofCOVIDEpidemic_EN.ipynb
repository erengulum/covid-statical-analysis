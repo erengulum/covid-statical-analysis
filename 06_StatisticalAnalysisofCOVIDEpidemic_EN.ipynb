{
 "cells": [
  {
   "cell_type": "markdown",
   "metadata": {},
   "source": [
    "# Statistical Analysis of COVID-19 Epidemic\n",
    "\n",
    "Group Number : 6\n",
    "\n",
    "Group Member(s) : Eren Gülüm\n",
    "\n",
    "Student Id = 21627265\n",
    "\n",
    "\n",
    "\n",
    "# Abstract:\n",
    "\n",
    "COVID-19, which started recently, is about to become the most dangerous disease in the\n",
    "world. Due to the virus spreading all over the world from China, a pandemic was declared\n",
    "about a month ago. The virus, which currently has no vaccine or effective treatment, is\n",
    "becoming more and more dangerous.\n",
    "\n",
    "In this project, our aim is to examine the spread of the virus with different methods, to\n",
    "achieve some results and to better understand the spread mechanism of the virus.\n",
    "During the project; We will work on datasets containing virus spread areas, spread rate,\n",
    "mortality rate and other factors.\n",
    "\n",
    "Our project will basically consist of three different sections:\n",
    "\n",
    "In the first part, we will try to find the real reasons behind the mortality rates.\n",
    "\n",
    "In the second part of the project, the full quarantine situation, the semi-quarantine situation\n",
    "(social distance) and the Free-movement situations will be examined. In these three\n",
    "different cases, the spread rates of the virus will be determined.\n",
    "\n",
    "In the third part, the report published by the Italian doctors will be examined. Then, we will try to predict total cases and total deaths of the countries by using different machine learning models"
   ]
  },
  {
   "cell_type": "markdown",
   "metadata": {},
   "source": [
    "# Project is divided into three different parts, so we created a table of contents for three different sections."
   ]
  },
  {
   "cell_type": "markdown",
   "metadata": {},
   "source": [
    "## Table of Content\n",
    "# Part 1\n",
    "[Problem](#problem1)   \n",
    "[Data Understanding](#data_understanding1)   \n",
    "[Data Preparation](#data_preparation1)   \n",
    "[Modeling](#modeling1)#There is no modeling section in Part 1\n",
    "\n",
    "[Evaluation](#evaluation1)   \n",
    "[References](#references)   \n",
    "\n",
    "# Part 2\n",
    "[Problem](#problem2)   \n",
    "[Data Understanding](#data_understanding2)   \n",
    "[Data Preparation](#data_preparation2)   \n",
    "[Modeling](#modeling2)   \n",
    "[Evaluation](#evaluation2)   \n",
    "[References](#references)   \n",
    "\n",
    "# Part 3\n",
    "[Problem](#problem3)   \n",
    "[Data Understanding](#data_understanding3)   \n",
    "[Data Preparation](#data_preparation3)   \n",
    "[Modeling](#modeling3)   \n",
    "[Evaluation](#evaluation3)   \n",
    "[References](#references)   \n",
    "\n"
   ]
  },
  {
   "cell_type": "code",
   "execution_count": 1,
   "metadata": {},
   "outputs": [],
   "source": [
    "import numpy as np\n",
    "import matplotlib.pyplot as plt\n",
    "import pandas as pd\n",
    "import statsmodels.api as sm\n",
    "from sklearn.metrics import r2_score\n",
    "from sklearn.model_selection import RandomizedSearchCV, train_test_split\n",
    "from sklearn.svm import SVR\n",
    "from sklearn import linear_model\n",
    "from sklearn.linear_model import LinearRegression\n",
    "from sklearn.preprocessing import PolynomialFeatures,StandardScaler\n",
    "from sklearn.linear_model import LinearRegression"
   ]
  },
  {
   "cell_type": "markdown",
   "metadata": {},
   "source": [
    "## Problem - 1 <a class=\"anchor\" id=\"problem1\"></a>\n",
    "\n",
    "In the first part of the implementation, we will examine the spread of the virus in three\n",
    "completely different countries, using the data we have received so far. (Italy, Turkey,\n",
    "Germany)\n",
    "In these countries, which have very different mortality rates, we will try to find the main\n",
    "causes of death rates (Health Services, Population, Average Age, Social Distance, Quarantine,\n",
    "etc.)\n",
    "After this review, we will graph the results we found using the Python library."
   ]
  },
  {
   "cell_type": "code",
   "execution_count": 2,
   "metadata": {},
   "outputs": [],
   "source": [
    "germany_data = pd.read_csv(\"covid19_germany.csv\")\n",
    "italy_data = pd.read_csv(\"covid19_italy.csv\")\n",
    "turkey_data = pd.read_csv(\"covid19_turkey.csv\")\n",
    "\n"
   ]
  },
  {
   "cell_type": "markdown",
   "metadata": {},
   "source": [
    "## Data Understanding - 1<a class=\"anchor\" id=\"data_understanding1\"></a>\n",
    "\n",
    "In this part i am going to use a lot of different datasets. Daily update of the Turkey, Italy and Germany will be used.Number of hospital beds and ventilators (from wikipedia table) will be used as well.\n",
    "\n",
    "Dataset of daily Coronavirus update for the countries can be downloaded here: https://ourworldindata.org/coronavirus-data-explorer?yScale=log&zoomToSelection=true&deathsMetric=true&dailyFreq=true&aligned=true&smoothing=7&country=USA+GBR+CAN+BRA+AUS+IND+ESP+DEU+FRA+RUS\n",
    "\n",
    "There was no csv file related to hospital beds and ventilators, so I converted the table in Wikipedia to CSV format:\n",
    "https://en.wikipedia.org/wiki/Template:Hospital_beds_by_country#cite_note-BBC_data-26\n",
    "\n",
    "Population age averages dataset downloaded here: https://worldpopulationreview.com/countries/median-age/"
   ]
  },
  {
   "cell_type": "code",
   "execution_count": 3,
   "metadata": {},
   "outputs": [
    {
     "data": {
      "text/html": [
       "<div>\n",
       "<style scoped>\n",
       "    .dataframe tbody tr th:only-of-type {\n",
       "        vertical-align: middle;\n",
       "    }\n",
       "\n",
       "    .dataframe tbody tr th {\n",
       "        vertical-align: top;\n",
       "    }\n",
       "\n",
       "    .dataframe thead th {\n",
       "        text-align: right;\n",
       "    }\n",
       "</style>\n",
       "<table border=\"1\" class=\"dataframe\">\n",
       "  <thead>\n",
       "    <tr style=\"text-align: right;\">\n",
       "      <th></th>\n",
       "      <th>Country</th>\n",
       "      <th>date</th>\n",
       "      <th>total_cases</th>\n",
       "      <th>new_cases</th>\n",
       "      <th>total_deaths</th>\n",
       "      <th>new_deaths</th>\n",
       "    </tr>\n",
       "  </thead>\n",
       "  <tbody>\n",
       "    <tr>\n",
       "      <th>0</th>\n",
       "      <td>Turkey</td>\n",
       "      <td>2020-03-12</td>\n",
       "      <td>1</td>\n",
       "      <td>1</td>\n",
       "      <td>0</td>\n",
       "      <td>0</td>\n",
       "    </tr>\n",
       "    <tr>\n",
       "      <th>1</th>\n",
       "      <td>Turkey</td>\n",
       "      <td>2020-03-13</td>\n",
       "      <td>2</td>\n",
       "      <td>1</td>\n",
       "      <td>0</td>\n",
       "      <td>0</td>\n",
       "    </tr>\n",
       "    <tr>\n",
       "      <th>2</th>\n",
       "      <td>Turkey</td>\n",
       "      <td>2020-03-16</td>\n",
       "      <td>18</td>\n",
       "      <td>16</td>\n",
       "      <td>0</td>\n",
       "      <td>0</td>\n",
       "    </tr>\n",
       "    <tr>\n",
       "      <th>3</th>\n",
       "      <td>Turkey</td>\n",
       "      <td>2020-03-17</td>\n",
       "      <td>47</td>\n",
       "      <td>29</td>\n",
       "      <td>0</td>\n",
       "      <td>0</td>\n",
       "    </tr>\n",
       "    <tr>\n",
       "      <th>4</th>\n",
       "      <td>Turkey</td>\n",
       "      <td>2020-03-18</td>\n",
       "      <td>98</td>\n",
       "      <td>51</td>\n",
       "      <td>0</td>\n",
       "      <td>0</td>\n",
       "    </tr>\n",
       "  </tbody>\n",
       "</table>\n",
       "</div>"
      ],
      "text/plain": [
       "  Country        date  total_cases  new_cases  total_deaths  new_deaths\n",
       "0  Turkey  2020-03-12            1          1             0           0\n",
       "1  Turkey  2020-03-13            2          1             0           0\n",
       "2  Turkey  2020-03-16           18         16             0           0\n",
       "3  Turkey  2020-03-17           47         29             0           0\n",
       "4  Turkey  2020-03-18           98         51             0           0"
      ]
     },
     "execution_count": 3,
     "metadata": {},
     "output_type": "execute_result"
    }
   ],
   "source": [
    "turkey_data.head()"
   ]
  },
  {
   "cell_type": "code",
   "execution_count": 4,
   "metadata": {},
   "outputs": [
    {
     "data": {
      "text/html": [
       "<div>\n",
       "<style scoped>\n",
       "    .dataframe tbody tr th:only-of-type {\n",
       "        vertical-align: middle;\n",
       "    }\n",
       "\n",
       "    .dataframe tbody tr th {\n",
       "        vertical-align: top;\n",
       "    }\n",
       "\n",
       "    .dataframe thead th {\n",
       "        text-align: right;\n",
       "    }\n",
       "</style>\n",
       "<table border=\"1\" class=\"dataframe\">\n",
       "  <thead>\n",
       "    <tr style=\"text-align: right;\">\n",
       "      <th></th>\n",
       "      <th>date</th>\n",
       "      <th>total_cases</th>\n",
       "      <th>new_cases</th>\n",
       "      <th>total_deaths</th>\n",
       "      <th>new_deaths</th>\n",
       "    </tr>\n",
       "  </thead>\n",
       "  <tbody>\n",
       "    <tr>\n",
       "      <th>1</th>\n",
       "      <td>2020-03-20</td>\n",
       "      <td>359</td>\n",
       "      <td>168</td>\n",
       "      <td>4</td>\n",
       "      <td>3</td>\n",
       "    </tr>\n",
       "    <tr>\n",
       "      <th>2</th>\n",
       "      <td>2020-03-21</td>\n",
       "      <td>670</td>\n",
       "      <td>311</td>\n",
       "      <td>9</td>\n",
       "      <td>5</td>\n",
       "    </tr>\n",
       "    <tr>\n",
       "      <th>3</th>\n",
       "      <td>2020-03-22</td>\n",
       "      <td>947</td>\n",
       "      <td>277</td>\n",
       "      <td>21</td>\n",
       "      <td>12</td>\n",
       "    </tr>\n",
       "    <tr>\n",
       "      <th>4</th>\n",
       "      <td>2020-03-23</td>\n",
       "      <td>1236</td>\n",
       "      <td>289</td>\n",
       "      <td>30</td>\n",
       "      <td>9</td>\n",
       "    </tr>\n",
       "    <tr>\n",
       "      <th>5</th>\n",
       "      <td>2020-03-24</td>\n",
       "      <td>1529</td>\n",
       "      <td>293</td>\n",
       "      <td>37</td>\n",
       "      <td>7</td>\n",
       "    </tr>\n",
       "  </tbody>\n",
       "</table>\n",
       "</div>"
      ],
      "text/plain": [
       "         date  total_cases  new_cases  total_deaths  new_deaths\n",
       "1  2020-03-20          359        168             4           3\n",
       "2  2020-03-21          670        311             9           5\n",
       "3  2020-03-22          947        277            21          12\n",
       "4  2020-03-23         1236        289            30           9\n",
       "5  2020-03-24         1529        293            37           7"
      ]
     },
     "execution_count": 4,
     "metadata": {},
     "output_type": "execute_result"
    }
   ],
   "source": [
    "turkey_data.drop([\"Country\"],axis=1,inplace=True)\n",
    "#We will take the data after the 250th case\n",
    "turkey_data = turkey_data[turkey_data['total_cases'] > 250]\n",
    "\n",
    "turkey_data.index = np.arange(1, len(turkey_data)+1) #İndex 0'ıncı günden başlıyordu bunun yerine 1'den başlattık\n",
    "turkey_data.head()"
   ]
  },
  {
   "cell_type": "code",
   "execution_count": 5,
   "metadata": {},
   "outputs": [
    {
     "data": {
      "text/html": [
       "<div>\n",
       "<style scoped>\n",
       "    .dataframe tbody tr th:only-of-type {\n",
       "        vertical-align: middle;\n",
       "    }\n",
       "\n",
       "    .dataframe tbody tr th {\n",
       "        vertical-align: top;\n",
       "    }\n",
       "\n",
       "    .dataframe thead th {\n",
       "        text-align: right;\n",
       "    }\n",
       "</style>\n",
       "<table border=\"1\" class=\"dataframe\">\n",
       "  <thead>\n",
       "    <tr style=\"text-align: right;\">\n",
       "      <th></th>\n",
       "      <th>date</th>\n",
       "      <th>total_cases</th>\n",
       "      <th>new_cases</th>\n",
       "      <th>total_deaths</th>\n",
       "      <th>new_deaths</th>\n",
       "    </tr>\n",
       "  </thead>\n",
       "  <tbody>\n",
       "    <tr>\n",
       "      <th>1</th>\n",
       "      <td>2020-02-26</td>\n",
       "      <td>322</td>\n",
       "      <td>93</td>\n",
       "      <td>11</td>\n",
       "      <td>5</td>\n",
       "    </tr>\n",
       "    <tr>\n",
       "      <th>2</th>\n",
       "      <td>2020-02-27</td>\n",
       "      <td>400</td>\n",
       "      <td>78</td>\n",
       "      <td>12</td>\n",
       "      <td>1</td>\n",
       "    </tr>\n",
       "    <tr>\n",
       "      <th>3</th>\n",
       "      <td>2020-02-28</td>\n",
       "      <td>650</td>\n",
       "      <td>250</td>\n",
       "      <td>17</td>\n",
       "      <td>5</td>\n",
       "    </tr>\n",
       "    <tr>\n",
       "      <th>4</th>\n",
       "      <td>2020-02-29</td>\n",
       "      <td>888</td>\n",
       "      <td>238</td>\n",
       "      <td>21</td>\n",
       "      <td>4</td>\n",
       "    </tr>\n",
       "    <tr>\n",
       "      <th>5</th>\n",
       "      <td>2020-03-01</td>\n",
       "      <td>1128</td>\n",
       "      <td>240</td>\n",
       "      <td>29</td>\n",
       "      <td>8</td>\n",
       "    </tr>\n",
       "  </tbody>\n",
       "</table>\n",
       "</div>"
      ],
      "text/plain": [
       "         date  total_cases  new_cases  total_deaths  new_deaths\n",
       "1  2020-02-26          322         93            11           5\n",
       "2  2020-02-27          400         78            12           1\n",
       "3  2020-02-28          650        250            17           5\n",
       "4  2020-02-29          888        238            21           4\n",
       "5  2020-03-01         1128        240            29           8"
      ]
     },
     "execution_count": 5,
     "metadata": {},
     "output_type": "execute_result"
    }
   ],
   "source": [
    "italy_data.drop([\"Country\"],axis=1,inplace=True)\n",
    "italy_data = italy_data[italy_data['total_cases'] > 250]\n",
    "\n",
    "italy_data.index = np.arange(1, len(italy_data)+1) #Index was starting on day 0 but we decided to start from 1\n",
    "italy_data.head()"
   ]
  },
  {
   "cell_type": "code",
   "execution_count": 6,
   "metadata": {},
   "outputs": [
    {
     "data": {
      "text/html": [
       "<div>\n",
       "<style scoped>\n",
       "    .dataframe tbody tr th:only-of-type {\n",
       "        vertical-align: middle;\n",
       "    }\n",
       "\n",
       "    .dataframe tbody tr th {\n",
       "        vertical-align: top;\n",
       "    }\n",
       "\n",
       "    .dataframe thead th {\n",
       "        text-align: right;\n",
       "    }\n",
       "</style>\n",
       "<table border=\"1\" class=\"dataframe\">\n",
       "  <thead>\n",
       "    <tr style=\"text-align: right;\">\n",
       "      <th></th>\n",
       "      <th>date</th>\n",
       "      <th>total_cases</th>\n",
       "      <th>new_cases</th>\n",
       "      <th>total_deaths</th>\n",
       "      <th>new_deaths</th>\n",
       "    </tr>\n",
       "  </thead>\n",
       "  <tbody>\n",
       "    <tr>\n",
       "      <th>1</th>\n",
       "      <td>2020-03-05</td>\n",
       "      <td>262</td>\n",
       "      <td>66</td>\n",
       "      <td>0</td>\n",
       "      <td>0</td>\n",
       "    </tr>\n",
       "    <tr>\n",
       "      <th>2</th>\n",
       "      <td>2020-03-06</td>\n",
       "      <td>400</td>\n",
       "      <td>138</td>\n",
       "      <td>0</td>\n",
       "      <td>0</td>\n",
       "    </tr>\n",
       "    <tr>\n",
       "      <th>3</th>\n",
       "      <td>2020-03-07</td>\n",
       "      <td>684</td>\n",
       "      <td>284</td>\n",
       "      <td>0</td>\n",
       "      <td>0</td>\n",
       "    </tr>\n",
       "    <tr>\n",
       "      <th>4</th>\n",
       "      <td>2020-03-08</td>\n",
       "      <td>847</td>\n",
       "      <td>163</td>\n",
       "      <td>0</td>\n",
       "      <td>0</td>\n",
       "    </tr>\n",
       "    <tr>\n",
       "      <th>5</th>\n",
       "      <td>2020-03-09</td>\n",
       "      <td>902</td>\n",
       "      <td>55</td>\n",
       "      <td>0</td>\n",
       "      <td>0</td>\n",
       "    </tr>\n",
       "  </tbody>\n",
       "</table>\n",
       "</div>"
      ],
      "text/plain": [
       "         date  total_cases  new_cases  total_deaths  new_deaths\n",
       "1  2020-03-05          262         66             0           0\n",
       "2  2020-03-06          400        138             0           0\n",
       "3  2020-03-07          684        284             0           0\n",
       "4  2020-03-08          847        163             0           0\n",
       "5  2020-03-09          902         55             0           0"
      ]
     },
     "execution_count": 6,
     "metadata": {},
     "output_type": "execute_result"
    }
   ],
   "source": [
    "germany_data.drop([\"Country\"],axis=1,inplace=True)\n",
    "germany_data = germany_data[germany_data['total_cases'] > 250]\n",
    "\n",
    "germany_data.index = np.arange(1, len(germany_data)+1) \n",
    "germany_data.head()\n"
   ]
  },
  {
   "cell_type": "markdown",
   "metadata": {},
   "source": [
    "# Data Preparation - 1<a class=\"anchor\" id=\"data_preparation1\"></a>\n",
    "Number of missing values will be checked for dataset of each country\n",
    "Since correlation isn't very important in this part, we won't use it for now (wil be used for Part3)\n",
    "We have already dropped some columns till now but since our data isn't too large for now, we don't need more elimination."
   ]
  },
  {
   "cell_type": "code",
   "execution_count": 7,
   "metadata": {},
   "outputs": [
    {
     "name": "stdout",
     "output_type": "stream",
     "text": [
      "Number of missing values in Turkey's data: 0\n",
      "Number of missing values in Italy's data: 0\n",
      "Number of missing values in Germany's data: 0\n"
     ]
    }
   ],
   "source": [
    "print(\"Number of missing values in Turkey's data:\" , turkey_data.isnull().sum().sum()) #So, there is no missing value in the data\n",
    "print(\"Number of missing values in Italy's data:\" , italy_data.isnull().sum().sum())\n",
    "print(\"Number of missing values in Germany's data:\" , germany_data.isnull().sum().sum()) \n"
   ]
  },
  {
   "cell_type": "code",
   "execution_count": 8,
   "metadata": {},
   "outputs": [
    {
     "data": {
      "image/png": "[encoded data removed]",
      "text/plain": [
       "<Figure size 432x288 with 1 Axes>"
      ]
     },
     "metadata": {
      "needs_background": "light"
     },
     "output_type": "display_data"
    }
   ],
   "source": [
    "plt.plot(turkey_data.loc[:,\"total_cases\"],color=\"r\",label=\"Turkey\")\n",
    "plt.plot(italy_data.loc[:,\"total_cases\"],color=\"g\",label=\"Italy\")\n",
    "plt.plot(germany_data.loc[:,\"total_cases\"],color=\"y\",label=\"Germany\")\n",
    "plt.title(\"Total Positive Cases\")\n",
    "plt.legend(loc=\"best\")\n",
    "plt.show()"
   ]
  },
  {
   "cell_type": "code",
   "execution_count": 9,
   "metadata": {},
   "outputs": [
    {
     "data": {
      "image/png": "[encoded data removed]",
      "text/plain": [
       "<Figure size 432x288 with 1 Axes>"
      ]
     },
     "metadata": {
      "needs_background": "light"
     },
     "output_type": "display_data"
    }
   ],
   "source": [
    "plt.plot(turkey_data.loc[:,\"total_deaths\"],color=\"r\",label=\"Turkey\")\n",
    "plt.plot(italy_data.loc[:,\"total_deaths\"],color=\"g\",label=\"Italy\")\n",
    "plt.plot(germany_data.loc[:,\"total_deaths\"],color=\"y\",label=\"Germany\")\n",
    "plt.title(\"Total Deaths\")\n",
    "plt.legend(loc=\"best\")\n",
    "plt.show()\n"
   ]
  },
  {
   "cell_type": "markdown",
   "metadata": {},
   "source": [
    "## Although there is not a significant difference in the number of cases, we see that the death numbers of Italy are very high\n",
    "\n",
    "Especially since the 20th day after the virus began to spread, the death toll is rising very sharply in Italy (unlike Germany and Turkey)\n",
    "\n",
    "So what could be the reasons for this?\n",
    "\n",
    "According to the scientists' explanations; Factors such as the number of intensive care beds, ages of patients, past diseases, respiratory equipment and population of the countries have a first-degree effect on the increase in the number of deaths.\n",
    "\n",
    "To verify this information, let's examine the number of intensive care beds and ventilators beds of these three countries and then their average age.\n",
    "\n"
   ]
  },
  {
   "cell_type": "code",
   "execution_count": 10,
   "metadata": {},
   "outputs": [
    {
     "data": {
      "text/html": [
       "<div>\n",
       "<style scoped>\n",
       "    .dataframe tbody tr th:only-of-type {\n",
       "        vertical-align: middle;\n",
       "    }\n",
       "\n",
       "    .dataframe tbody tr th {\n",
       "        vertical-align: top;\n",
       "    }\n",
       "\n",
       "    .dataframe thead th {\n",
       "        text-align: right;\n",
       "    }\n",
       "</style>\n",
       "<table border=\"1\" class=\"dataframe\">\n",
       "  <thead>\n",
       "    <tr style=\"text-align: right;\">\n",
       "      <th></th>\n",
       "      <th>Country/territory</th>\n",
       "      <th>Continent</th>\n",
       "      <th>ICU-CCB beds/100,000 inhabitants</th>\n",
       "      <th>Ventilators</th>\n",
       "    </tr>\n",
       "  </thead>\n",
       "  <tbody>\n",
       "    <tr>\n",
       "      <th>0</th>\n",
       "      <td>Japan</td>\n",
       "      <td>Asia</td>\n",
       "      <td>7.3</td>\n",
       "      <td>32586</td>\n",
       "    </tr>\n",
       "    <tr>\n",
       "      <th>1</th>\n",
       "      <td>South Korea</td>\n",
       "      <td>Asia</td>\n",
       "      <td>10.6</td>\n",
       "      <td>9795</td>\n",
       "    </tr>\n",
       "    <tr>\n",
       "      <th>2</th>\n",
       "      <td>Russia</td>\n",
       "      <td>Europe</td>\n",
       "      <td>8.3</td>\n",
       "      <td>40000</td>\n",
       "    </tr>\n",
       "    <tr>\n",
       "      <th>3</th>\n",
       "      <td>Germany</td>\n",
       "      <td>Europe</td>\n",
       "      <td>33.9</td>\n",
       "      <td>25000</td>\n",
       "    </tr>\n",
       "    <tr>\n",
       "      <th>4</th>\n",
       "      <td>Austria</td>\n",
       "      <td>Europe</td>\n",
       "      <td>21.8</td>\n",
       "      <td>2500</td>\n",
       "    </tr>\n",
       "  </tbody>\n",
       "</table>\n",
       "</div>"
      ],
      "text/plain": [
       "  Country/territory Continent  ICU-CCB beds/100,000 inhabitants Ventilators\n",
       "0             Japan      Asia                               7.3       32586\n",
       "1       South Korea      Asia                              10.6        9795\n",
       "2            Russia    Europe                               8.3       40000\n",
       "3           Germany    Europe                              33.9       25000\n",
       "4           Austria    Europe                              21.8        2500"
      ]
     },
     "execution_count": 10,
     "metadata": {},
     "output_type": "execute_result"
    }
   ],
   "source": [
    "hospitalData = pd.read_csv(\"beds_ventilators.csv\")\n",
    "hospitalData.head()"
   ]
  },
  {
   "cell_type": "code",
   "execution_count": 11,
   "metadata": {},
   "outputs": [
    {
     "data": {
      "text/plain": [
       "[17000, 5324, 25000]"
      ]
     },
     "execution_count": 11,
     "metadata": {},
     "output_type": "execute_result"
    }
   ],
   "source": [
    "countries = ['Turkey', 'Italy', 'Germany']\n",
    "num_ventilators = []\n",
    "num_ventilators.append(int(hospitalData[hospitalData[\"Country/territory\"]==\"Turkey\"][\"Ventilators\"].values))\n",
    "num_ventilators.append(int(hospitalData[hospitalData[\"Country/territory\"]==\"Italy\"][\"Ventilators\"].values))\n",
    "num_ventilators.append(int(hospitalData[hospitalData[\"Country/territory\"]==\"Germany\"][\"Ventilators\"].values))\n",
    "num_ventilators"
   ]
  },
  {
   "cell_type": "code",
   "execution_count": 12,
   "metadata": {},
   "outputs": [
    {
     "data": {
      "image/png": "[encoded data removed]",
      "text/plain": [
       "<Figure size 432x288 with 1 Axes>"
      ]
     },
     "metadata": {
      "needs_background": "light"
     },
     "output_type": "display_data"
    }
   ],
   "source": [
    "fig = plt.figure()\n",
    "ax = fig.add_axes([0,0,1,1])\n",
    "ax.bar(countries,num_ventilators,color=[\"Red\",\"Green\",\"Yellow\"])\n",
    "plt.title(\"Number of Ventilators\")\n",
    "plt.show()"
   ]
  },
  {
   "cell_type": "code",
   "execution_count": 13,
   "metadata": {},
   "outputs": [
    {
     "data": {
      "image/png": "[encoded data removed]",
      "text/plain": [
       "<Figure size 432x288 with 1 Axes>"
      ]
     },
     "metadata": {
      "needs_background": "light"
     },
     "output_type": "display_data"
    }
   ],
   "source": [
    "icu_beds = []\n",
    "icu_beds.append(int(hospitalData[hospitalData[\"Country/territory\"]==\"Turkey\"][\"ICU-CCB beds/100,000 inhabitants\"].values))\n",
    "icu_beds.append(int(hospitalData[hospitalData[\"Country/territory\"]==\"Italy\"][\"ICU-CCB beds/100,000 inhabitants\"].values))\n",
    "icu_beds.append(int(hospitalData[hospitalData[\"Country/territory\"]==\"Germany\"][\"ICU-CCB beds/100,000 inhabitants\"].values))\n",
    "\n",
    "fig = plt.figure()\n",
    "ax = fig.add_axes([0,0,1,1])\n",
    "ax.bar(countries,icu_beds,color=[\"Red\",\"Green\",\"Yellow\"])\n",
    "plt.title(\"ICU-CCB beds/100,000 inhabitants\")\n",
    "plt.show()"
   ]
  },
  {
   "cell_type": "markdown",
   "metadata": {},
   "source": [
    "In both charts, we see that Italy is far behind. Therefore, we can estimate that hospitals and ventilators are full after a certain number of positive cases (day 20).\n",
    "\n",
    "Therefore, we see that the deaths increased very rapidly, differentiating from the other two countries from the 20th day.\n",
    "(After the 20th day, there are not enough ventilators and beds for treatment in Italy)\n",
    "\n",
    "\n",
    "Let's examine the average age of the population:\n",
    "The dataset was downloaded here: https://worldpopulationreview.com/countries/median-age/"
   ]
  },
  {
   "cell_type": "code",
   "execution_count": 14,
   "metadata": {},
   "outputs": [
    {
     "data": {
      "text/html": [
       "<div>\n",
       "<style scoped>\n",
       "    .dataframe tbody tr th:only-of-type {\n",
       "        vertical-align: middle;\n",
       "    }\n",
       "\n",
       "    .dataframe tbody tr th {\n",
       "        vertical-align: top;\n",
       "    }\n",
       "\n",
       "    .dataframe thead th {\n",
       "        text-align: right;\n",
       "    }\n",
       "</style>\n",
       "<table border=\"1\" class=\"dataframe\">\n",
       "  <thead>\n",
       "    <tr style=\"text-align: right;\">\n",
       "      <th></th>\n",
       "      <th>Place</th>\n",
       "      <th>Median</th>\n",
       "      <th>Median Male</th>\n",
       "      <th>Median Female</th>\n",
       "    </tr>\n",
       "  </thead>\n",
       "  <tbody>\n",
       "    <tr>\n",
       "      <th>0</th>\n",
       "      <td>Monaco</td>\n",
       "      <td>53.1</td>\n",
       "      <td>51.7</td>\n",
       "      <td>54.5</td>\n",
       "    </tr>\n",
       "    <tr>\n",
       "      <th>1</th>\n",
       "      <td>Japan</td>\n",
       "      <td>47.3</td>\n",
       "      <td>46.0</td>\n",
       "      <td>48.7</td>\n",
       "    </tr>\n",
       "    <tr>\n",
       "      <th>2</th>\n",
       "      <td>Germany</td>\n",
       "      <td>47.1</td>\n",
       "      <td>46.0</td>\n",
       "      <td>48.2</td>\n",
       "    </tr>\n",
       "    <tr>\n",
       "      <th>3</th>\n",
       "      <td>Saint Pierre and Miquelon</td>\n",
       "      <td>46.5</td>\n",
       "      <td>46.0</td>\n",
       "      <td>47.0</td>\n",
       "    </tr>\n",
       "    <tr>\n",
       "      <th>4</th>\n",
       "      <td>Italy</td>\n",
       "      <td>45.5</td>\n",
       "      <td>44.4</td>\n",
       "      <td>46.5</td>\n",
       "    </tr>\n",
       "  </tbody>\n",
       "</table>\n",
       "</div>"
      ],
      "text/plain": [
       "                       Place  Median  Median Male  Median Female\n",
       "0                     Monaco    53.1         51.7           54.5\n",
       "1                      Japan    47.3         46.0           48.7\n",
       "2                    Germany    47.1         46.0           48.2\n",
       "3  Saint Pierre and Miquelon    46.5         46.0           47.0\n",
       "4                      Italy    45.5         44.4           46.5"
      ]
     },
     "execution_count": 14,
     "metadata": {},
     "output_type": "execute_result"
    }
   ],
   "source": [
    "#Average Ages\n",
    "average_age = pd.read_csv(\"average_ages.csv\") # https://worldpopulationreview.com/countries/median-age/\n",
    "average_age.head()\n",
    "\n",
    "#Both Germany and Italy is in Top 5 (Oldest)"
   ]
  },
  {
   "cell_type": "code",
   "execution_count": 15,
   "metadata": {},
   "outputs": [
    {
     "name": "stdout",
     "output_type": "stream",
     "text": [
      "[30.5, 44.4, 46.0]\n",
      "[31.4, 46.5, 48.2]\n"
     ]
    }
   ],
   "source": [
    "menAvAgeList = []\n",
    "menAvAgeList.append(float(average_age[average_age[\"Place\"]==\"Turkey\"][\"Median Male\"].values))\n",
    "menAvAgeList.append(float(average_age[average_age[\"Place\"]==\"Italy\"][\"Median Male\"].values))\n",
    "menAvAgeList.append(float(average_age[average_age[\"Place\"]==\"Germany\"][\"Median Male\"].values))\n",
    "print(menAvAgeList)\n",
    "\n",
    "womenAvAgeList = []\n",
    "womenAvAgeList.append(float(average_age[average_age[\"Place\"]==\"Turkey\"][\"Median Female\"].values))\n",
    "womenAvAgeList.append(float(average_age[average_age[\"Place\"]==\"Italy\"][\"Median Female\"].values))\n",
    "womenAvAgeList.append(float(average_age[average_age[\"Place\"]==\"Germany\"][\"Median Female\"].values))\n",
    "\n",
    "print(womenAvAgeList)"
   ]
  },
  {
   "cell_type": "code",
   "execution_count": 16,
   "metadata": {},
   "outputs": [
    {
     "data": {
      "image/png": "[encoded data removed]",
      "text/plain": [
       "<Figure size 432x288 with 1 Axes>"
      ]
     },
     "metadata": {
      "needs_background": "light"
     },
     "output_type": "display_data"
    }
   ],
   "source": [
    "width =0.3\n",
    "plt.bar(np.arange(len(menAvAgeList)), menAvAgeList, width=width,color=\"g\",label='Men')\n",
    "plt.bar(np.arange(len(womenAvAgeList))+ width, womenAvAgeList, width=width,color=\"r\",label='Women')\n",
    "plt.xticks(np.arange(len(womenAvAgeList))+width, ('Turkey', 'Italy', 'Germany'))\n",
    "plt.title(\"Average Age\")\n",
    "plt.legend(loc=\"best\")\n",
    "plt.show()"
   ]
  },
  {
   "cell_type": "markdown",
   "metadata": {},
   "source": [
    "## Evaluation 1 <a class=\"anchor\" id=\"evaluation1\"></a>\n",
    "\n",
    "When we examine these three different factors above, we can understand why so many people died in Italy.\n",
    "\n",
    "When we check the case increase and death increase graphs, we see that the case increases of all three countries are similar.\n",
    "However, the number of deaths started to increase \"incredibly\" in Italy from the 20th day.\n",
    "\n",
    "One of the main reason is that Italy has much less respiratory equipment(ventilators) than the other two countries. Also, if we check the number of intensive care beds per 100,000 people, we can see that Italy has the lowest number among this three country.\n",
    "\n",
    "We know that people with heavy illness are treated by ventilators and intensive care units. If there is a lack of breathing apparatus&ventilators, especially elderly patients die.\n",
    "\n",
    "We can better understand this situation by examining the Total Deaths chart.\n",
    " \n",
    "In Italy, where the population is old and there are about 25,000 cases on the 18th day, the lack of respiratory equipment begins. Then the death rate begins to increase incredibly.\n",
    "\n",
    "Since there are no empty suitable ventilators  available , the majority of patients with severe illness begin to die.\n"
   ]
  },
  {
   "cell_type": "markdown",
   "metadata": {},
   "source": [
    "\n",
    "\n",
    "From the 40th day, the number of deaths begins to separate from each other in Turkey and Germany.\n",
    "Although it is not like in Italy, the death toll is rising in Germany than in Turkey.\n",
    "\n",
    "Considering that the disease is more fatal and prolonged in the elderly population, we can see this as normal.\n",
    "Germany's population average age is much older than Turkey. Therefore, we can estimate that patients are recovering later.\n",
    "\n",
    "Therefore, even though the number of respirators is high, respirators appear to be full, as the elderly need treatment for a longer period of time.\n",
    "\n",
    "Considering that Germany has an elderly population, we can see this increase in mortality as normal. Although the elderly population in Germany is similar to Italy, there has been much less death than Italy due to the number of intensive care beds and its serious advantage in respiratory equipment.\n",
    "\n",
    " Turkey has a young population and health system prepared for such a situation. So Turkey, continues to struggle with less losses compared to these two countries."
   ]
  },
  {
   "cell_type": "code",
   "execution_count": null,
   "metadata": {},
   "outputs": [],
   "source": []
  },
  {
   "cell_type": "code",
   "execution_count": null,
   "metadata": {},
   "outputs": [],
   "source": []
  },
  {
   "cell_type": "code",
   "execution_count": null,
   "metadata": {},
   "outputs": [],
   "source": []
  },
  {
   "cell_type": "code",
   "execution_count": null,
   "metadata": {},
   "outputs": [],
   "source": []
  },
  {
   "cell_type": "markdown",
   "metadata": {},
   "source": [
    "## PART 2 - EVALUTION OF DIFFERENT QUARANTINE SITUATIONS:\n",
    "\n",
    "## Problem -2 <a class=\"anchor\" id=\"problem2\"></a>\n",
    "\n",
    "The full quarantine situation, the semi-quarantine situation (social distance) and the\n",
    "Free-movement situations will be examined. In these three different cases, the spread rates\n",
    "of the virus will be determined.\n",
    "\n",
    "For this part, the case increase of CoVID-19 before and after quarantine in Italy will be\n",
    "examined separately. (Dataset to be used: specified in Data 2.1)\n",
    "Then, the situation of Germany, which implements partial quarantine (social distance), will\n",
    "be examined.\n",
    "\n",
    "As a result, we will make an assessment of how these different quarantine applications works. We will try to predict number of total cases if there won't be any Quarantine or Social Distance.\n",
    "We will use different Regression models for the prediction"
   ]
  },
  {
   "cell_type": "markdown",
   "metadata": {},
   "source": [
    "## Data Understanding - 2<a class=\"anchor\" id=\"data_understanding2\"></a>\n",
    "\n",
    "We will use the same datasets in the first section (Part-1). We will use tables to better understand the data. Since our goal is to see the effects of Full Scale Quarantine (Curfew) and Social Distance Rules, we will break the graphs into pieces"
   ]
  },
  {
   "cell_type": "code",
   "execution_count": 17,
   "metadata": {},
   "outputs": [],
   "source": [
    "it_data = italy_data.loc[:,\"total_cases\"]\n",
    "\n",
    "quarantineStart = italy_data[italy_data[\"date\"]==\"2020-03-21\"][\"total_cases\"].values[0]\n",
    "quarantine14 = italy_data[italy_data[\"date\"]==\"2020-04-04\"][\"total_cases\"].values[0]\n",
    "adjusted_dates = np.array([i+1 for i in range(len(italy_data))]).reshape(-1, 1)"
   ]
  },
  {
   "cell_type": "code",
   "execution_count": 18,
   "metadata": {},
   "outputs": [
    {
     "data": {
      "text/plain": [
       "<matplotlib.legend.Legend at 0x1d9184cda08>"
      ]
     },
     "execution_count": 18,
     "metadata": {},
     "output_type": "execute_result"
    },
    {
     "data": {
      "image/png": "[encoded data removed]",
      "text/plain": [
       "<Figure size 432x288 with 1 Axes>"
      ]
     },
     "metadata": {
      "needs_background": "light"
     },
     "output_type": "display_data"
    }
   ],
   "source": [
    "plt.plot(adjusted_dates,it_data)\n",
    "plt.xticks(np.arange(min(adjusted_dates), max(adjusted_dates)+1, 5))\n",
    "plt.plot(25,quarantineStart,'ro',color=\"r\",label=\"Beginning of Quar.(21 March)\") \n",
    "plt.plot(39,quarantine14,'ro',color =\"g\",label=\"14 days after Quar.(4 April)\") \n",
    "plt.title(\"Number of Total Cases(Italy)\")\n",
    "\n",
    "plt.legend(loc=\"best\")"
   ]
  },
  {
   "cell_type": "markdown",
   "metadata": {},
   "source": [
    "#On 21 March, Conte announced a further enlargement of the lockdown, by shutting down all non-necessary businesses and industries\n",
    "\n",
    "The incubation period of the coronavirus is 14 days. In other words, it is necessary to wait at least 14 days to examine the result of a decision.\n",
    "For example, a person infected with the virus on March 20 (just before quarantine) can get sick on the 14th day, so he can start getting sick on April 3.\n",
    "Therefore, in order to examine the effect of quarantine on the rate of increase of cases, we should examine the data from the 14th day, not the day the quarantine started.\n",
    "In other words, the effects of the comprehensive curfew that started in Italy on 21 March should be examined from 4 April.\n"
   ]
  },
  {
   "cell_type": "code",
   "execution_count": 19,
   "metadata": {},
   "outputs": [
    {
     "data": {
      "image/png": "[encoded data removed]",
      "text/plain": [
       "<Figure size 432x288 with 1 Axes>"
      ]
     },
     "metadata": {
      "needs_background": "light"
     },
     "output_type": "display_data"
    }
   ],
   "source": [
    "quarantine_days = [i for i in adjusted_dates if i>=25]\n",
    "\n",
    "quarantine_days14 = [i for i in adjusted_dates if i>=25 and i<=39]\n",
    "quarantine_days_after14 = [i for i in adjusted_dates if i>=39]\n",
    "\n",
    "plt.plot(quarantine_days14,italy_data[(italy_data.date >= \"2020-03-21\") & (italy_data.date <= \"2020-04-04\")][\"total_cases\"].values,color=\"r\")\n",
    "plt.plot(quarantine_days_after14,italy_data[italy_data[\"date\"]>=\"2020-04-04\"][\"total_cases\"].values,color=\"g\")\n",
    "plt.plot(25,quarantineStart,'ro',color=\"b\",label=\"Beginning of Quar.(21 March)\") \n",
    "plt.plot(39,quarantine14,'ro',color =\"y\",label=\"14 days after Quar.(4 April)\") \n",
    "plt.xticks(np.arange(min(quarantine_days), max(quarantine_days)+1, 3))\n",
    "plt.title(\"Number of Total Cases (daily)\")\n",
    "plt.legend(loc=\"best\")\n",
    "plt.show()"
   ]
  },
  {
   "cell_type": "markdown",
   "metadata": {},
   "source": [
    "As can be seen in the graph, 14 days after the general-scale quarantine (curfew), the chart slows down considerably. Using different machine learning algorithms below, we will try to estimate what would be the estimated total case value if curfew was not declared.\n",
    "\n",
    "But first, let's examine the data of Germany, which applies social distance rules, instead of nationwide-curfew(Full Scale Quarantine) ."
   ]
  },
  {
   "cell_type": "markdown",
   "metadata": {},
   "source": [
    "# Another Solution to Avoid Spread of the Virus: Social Distance (Germany)\n",
    "\n"
   ]
  },
  {
   "cell_type": "markdown",
   "metadata": {},
   "source": [
    "There was no general curfew in Germany.Germany choose the follow Social Distance instead of general curfew.\n",
    "\n",
    "Activities involving many people were canceled, and collective navigation was prohibited.More detailed rules of the Germany-type Social Distance can be find:\n",
    "22 March: https://www.bbc.com/news/world-europe-51999080"
   ]
  },
  {
   "cell_type": "code",
   "execution_count": 20,
   "metadata": {},
   "outputs": [],
   "source": [
    "socDistBegin = germany_data[germany_data[\"date\"]==\"2020-03-22\"][\"total_cases\"].values[0]\n",
    "socDist14 = germany_data[germany_data[\"date\"]==\"2020-04-05\"][\"total_cases\"].values[0]\n"
   ]
  },
  {
   "cell_type": "code",
   "execution_count": 21,
   "metadata": {},
   "outputs": [
    {
     "data": {
      "text/plain": [
       "Text(0.5, 1.0, 'Number of Total Cases(Germany)')"
      ]
     },
     "execution_count": 21,
     "metadata": {},
     "output_type": "execute_result"
    },
    {
     "data": {
      "image/png": "[encoded data removed]",
      "text/plain": [
       "<Figure size 432x288 with 1 Axes>"
      ]
     },
     "metadata": {
      "needs_background": "light"
     },
     "output_type": "display_data"
    }
   ],
   "source": [
    "plt.plot(np.array([i+1 for i in range(len(germany_data))]),germany_data.loc[:,\"total_cases\"].values)\n",
    "plt.plot(18,socDistBegin,'ro',color=\"b\",label=\"Beginning of Soc Dist.(22 March)\") \n",
    "plt.plot(32,socDist14,'ro',color =\"y\",label=\"14 days after Soc Dist.(5 April)\") \n",
    "plt.legend(loc=\"best\")\n",
    "plt.title(\"Number of Total Cases(Germany)\")"
   ]
  },
  {
   "cell_type": "code",
   "execution_count": 22,
   "metadata": {},
   "outputs": [
    {
     "data": {
      "image/png": "[encoded data removed]",
      "text/plain": [
       "<Figure size 432x288 with 1 Axes>"
      ]
     },
     "metadata": {
      "needs_background": "light"
     },
     "output_type": "display_data"
    }
   ],
   "source": [
    "\n",
    "days_before_socDist = np.array([i for i in range(len(germany_data)) if i<=18 and i != 0 ])\n",
    "days_btw_socDist_14 = np.array([i for i in range(len(germany_data)) if i<=32 and i>=18])\n",
    "days_after_socDist_14 = np.array([i for i in range(len(germany_data)+1) if i>=32])\n",
    "\n",
    "#Visualization of the situation\n",
    "plt.plot(days_before_socDist,germany_data[germany_data[\"date\"]<=\"2020-03-22\"][\"total_cases\"].values,color=\"r\",label=\"Before Soc. Dist.\")\n",
    "plt.plot(days_btw_socDist_14,germany_data[(germany_data.date >= \"2020-03-22\") & (germany_data.date <=\"2020-04-05\")][\"total_cases\"].values,color=\"b\",label=\"1-14 days of Soc.Dist\")\n",
    "plt.plot(days_after_socDist_14,germany_data[germany_data[\"date\"]>=\"2020-04-05\"][\"total_cases\"].values,color=\"g\",label=\"+14 days after Soc Dist\")\n",
    "plt.title(\"Total Cases (Germany)\")\n",
    "plt.legend(loc=\"best\")\n",
    "plt.show()"
   ]
  },
  {
   "cell_type": "markdown",
   "metadata": {},
   "source": [
    "## Data Preparation-2<a class=\"anchor\" id=\"data_preparation2\"></a>\n",
    "\n",
    "Here, we have not made any changes to the data yet, since we used the same data in the first part (Part 1). In the modeling section, we will use the data by dividing it into different sets of tests and trains.\n",
    "\n",
    "In the third part (Part 3) we worked on a big data source. So you can see most of the work related to the data preparation section there. In the third part, we deleted many columns&features that would not fit our model . Then we checked the correlation status again and deleted other columns as well. Finally, we deleted all rows that contain NaN values.\n",
    "\n",
    "So, you will see more detailed procedures on data preparation in the third section (Part 3). In the first two episodes, the Data Preparation phase was very short, as the data was not very large."
   ]
  },
  {
   "cell_type": "markdown",
   "metadata": {},
   "source": [
    "\n",
    "# Modeling - 2<a class=\"anchor\" id=\"modeling2\"></a>: \n",
    "\n",
    "## Now we are going to use some machine learning algorithms to predict total cases if there won't be any general Quarantine(curfew) in Italy or Social Distance in Germany\n",
    "\n",
    "If the full-quarantine&curfew or Social Distance Rules was not declared, what would be the number of cases? Thats the our aim to predict these numbers by using some Regression Models"
   ]
  },
  {
   "cell_type": "markdown",
   "metadata": {},
   "source": [
    "Italy: \n",
    "In the first 14 days of the quarantine, we can see that the curve has increased more linearly. After 14 days, the rate of increase in cases is decreasing. Lets use Linear Regression to predict number of total cases if there won't be any curfew.\n",
    "\n",
    "We will train the model by giving the total case data of the first 39 days(39th day is the 14th day of the beginning of curfew)\n",
    "As we mentioned above, incubation time of this virus is 14 days.It means, The real effects of the curfew will appear from day 14. Thats why we are looking the 14 days after the curfew. (See above for more info about incubation time).\n",
    "\n",
    "After the training, we wil give the rest of the days to predict total case if there won't be a curfew in Italy:"
   ]
  },
  {
   "cell_type": "code",
   "execution_count": 23,
   "metadata": {},
   "outputs": [
    {
     "data": {
      "text/plain": [
       "<matplotlib.legend.Legend at 0x1d918713ac8>"
      ]
     },
     "execution_count": 23,
     "metadata": {},
     "output_type": "execute_result"
    },
    {
     "data": {
      "image/png": "[encoded data removed]",
      "text/plain": [
       "<Figure size 432x288 with 1 Axes>"
      ]
     },
     "metadata": {
      "needs_background": "light"
     },
     "output_type": "display_data"
    }
   ],
   "source": [
    "first14cases = italy_data[(italy_data.date >= \"2020-03-21\") & (italy_data.date <= \"2020-04-04\")][\"total_cases\"].values\n",
    "lin_reg3 = LinearRegression()\n",
    "lin_reg3.fit([i for i in quarantine_days if i<40],first14cases)\n",
    "pred = lin_reg3.predict([i for i in adjusted_dates if i>=25])\n",
    "\n",
    "\n",
    "plt.plot(quarantine_days,pred,color=\"y\",label=\"Case Pred. without Quar.\")\n",
    "plt.plot(quarantine_days14,italy_data[(italy_data.date >= \"2020-03-21\") & (italy_data.date <= \"2020-04-04\")][\"total_cases\"].values,color=\"r\")\n",
    "plt.plot(quarantine_days_after14,italy_data[italy_data[\"date\"]>=\"2020-04-04\"][\"total_cases\"].values,color=\"g\",label=\"+14days after Quar.\")\n",
    "plt.plot(25,quarantineStart,'ro',color=\"blue\",label=\"Beginning of Quar.(21 March)\") \n",
    "plt.plot(39,quarantine14,'ro',color =\"black\",label=\"14 days after Quar.(4 April)\") \n",
    "plt.title(\"Number of Total Cases (daily) in Italy\")\n",
    "plt.xticks(np.arange(min(quarantine_days), max(quarantine_days)+1, 3))\n",
    "\n",
    "plt.legend(loc=\"best\")"
   ]
  },
  {
   "cell_type": "markdown",
   "metadata": {},
   "source": [
    "If it was not declared quarantine, the rate of increase in the case would continue linearly (as between days 25 and 41).\n",
    "\n",
    "If it continued to increase in this way, the number of cases would be +350,000 on the 82nd day. However, with the effect of the quarantine, we can see that the curve has started to bend seriously since April 4.\n",
    "\n",
    "\n",
    "One model won't be enough so we are going to use one more Regression Model: SVR\n",
    "\n",
    "I coded SVR as a function so we can use it again during the prediction of the Germany's total cases\n",
    "In the function, we will use three different kernel of the SVR.\n",
    "All results will be plotted\n",
    "\n",
    "# SVR Model:\n",
    "\n"
   ]
  },
  {
   "cell_type": "code",
   "execution_count": 24,
   "metadata": {},
   "outputs": [],
   "source": [
    "def svr_case_prediction(X,Y,prediction_category,testsize):\n",
    "    X_train_case, X_test_case, y_train_case, y_test_case = train_test_split(X, Y, test_size=testsize,random_state=21,shuffle=False)\n",
    "    sc = StandardScaler()\n",
    "    sc2 = StandardScaler()\n",
    "    x_train_scaled = sc2.fit_transform(X_train_case)\n",
    "    y_train_scaled = sc.fit_transform(y_train_case)\n",
    "    x_test_scaled = sc2.fit_transform(X_test_case)\n",
    "    y_test_scaled = sc.fit_transform(y_test_case)\n",
    "\n",
    "    svr_rbf = SVR(kernel = 'rbf')\n",
    "    svr_rbf.fit(x_train_scaled,y_train_scaled.ravel())\n",
    "\n",
    "    svr_lin = SVR(kernel = 'linear')\n",
    "    svr_lin.fit(x_train_scaled,y_train_scaled.ravel())\n",
    "\n",
    "    svr_poly = SVR(kernel = 'poly')\n",
    "    svr_poly.fit(x_train_scaled,y_train_scaled.ravel())\n",
    "\n",
    "    plt.plot(sc2.inverse_transform(x_test_scaled),sc.inverse_transform(y_test_scaled),color='black',label=\"Real Total Case after Quar/SocDis\")\n",
    "    plt.plot(sc2.inverse_transform(x_test_scaled),sc.inverse_transform(svr_rbf.predict(x_test_scaled)), color = 'blue',label=\"w/o Quar/SocDist (RBF)\")\n",
    "    plt.plot(sc2.inverse_transform(x_test_scaled),sc.inverse_transform(svr_lin.predict(x_test_scaled)), color = 'yellow', label=\"w/o Quar/SocDist (Linear)\")\n",
    "    plt.plot(sc2.inverse_transform(x_test_scaled),sc.inverse_transform(svr_poly.predict(x_test_scaled)), color = 'red', label=\"w/o Quar/SocDist (Poly)\")\n",
    "    plt.legend(loc=\"best\")\n",
    "    plt.title(\"SVR Prediction +14 days After Quar/SocialDist (\"+prediction_category +\")\")\n",
    "    plt.show()\n",
    "\n",
    "\n"
   ]
  },
  {
   "cell_type": "code",
   "execution_count": 25,
   "metadata": {},
   "outputs": [
    {
     "data": {
      "image/png": "[encoded data removed]",
      "text/plain": [
       "<Figure size 432x288 with 1 Axes>"
      ]
     },
     "metadata": {
      "needs_background": "light"
     },
     "output_type": "display_data"
    }
   ],
   "source": [
    "all_days_italy = np.array([i+1 for i in range(len(italy_data[\"total_cases\"]))])\n",
    "\n",
    "svr_case_prediction(all_days_italy.reshape(-1, 1),italy_data[\"total_cases\"].values.reshape(-1, 1),\"Italy Total Case\",0.54)\n",
    "# Test_size= 0.54 means it will take 1-39th days as train data (days between the beginning of curfew and 14 days after it) and rest will be test data"
   ]
  },
  {
   "cell_type": "markdown",
   "metadata": {},
   "source": [
    "\n",
    "\n",
    "# Germany\n",
    "Now it is turn for Germany, what would be the number of cases in Germany if the Social Distance Rules was not declared?"
   ]
  },
  {
   "cell_type": "code",
   "execution_count": 26,
   "metadata": {},
   "outputs": [
    {
     "data": {
      "image/png": "[encoded data removed]",
      "text/plain": [
       "<Figure size 432x288 with 1 Axes>"
      ]
     },
     "metadata": {
      "needs_background": "light"
     },
     "output_type": "display_data"
    }
   ],
   "source": [
    "all_days_germany = np.array([i+1 for i in range(len(germany_data[\"total_cases\"]))])\n",
    "svr_case_prediction(all_days_germany.reshape(-1, 1),germany_data[\"total_cases\"].values.reshape(-1, 1),\"GermanyTotCase\",0.58)\n",
    "# Test_size= 0.58 means it will take 1-32th days as train data (days between the beginning of Social Distance in Germany and 14 days after it) and rest will be test data"
   ]
  },
  {
   "cell_type": "markdown",
   "metadata": {},
   "source": [
    "## Evaluation-2 <a class=\"anchor\" id=\"evaluation2\"></a>\n",
    "\n",
    "As we mentioned above, the actual start date of the effect of the curfew is 14 days after the announcement of the ban. Because this virus can remain in incubation for 14 days. So, to discuss the effects of the curfew, we have to look after 14 days.\n",
    "\n",
    "The aim here is to answer the question of what would be the number of cases if quarantine was not declared.\n",
    "So we have no chance to measure the accuracy of the models.\n",
    "\n",
    "Although the models did not give very good results, we saw that in all three different models for both countr, the number of cases would have been much higher if it was not a curfew&Social Distance.\n",
    "\n",
    "We can understand that this is true from the following two graphs:"
   ]
  },
  {
   "cell_type": "code",
   "execution_count": 27,
   "metadata": {
    "scrolled": true
   },
   "outputs": [
    {
     "data": {
      "image/png": "[encoded data removed]",
      "text/plain": [
       "<Figure size 432x288 with 1 Axes>"
      ]
     },
     "metadata": {
      "needs_background": "light"
     },
     "output_type": "display_data"
    },
    {
     "data": {
      "image/png": "[encoded data removed]",
      "text/plain": [
       "<Figure size 432x288 with 1 Axes>"
      ]
     },
     "metadata": {
      "needs_background": "light"
     },
     "output_type": "display_data"
    }
   ],
   "source": [
    "plt.plot(days_before_socDist,germany_data[germany_data[\"date\"]<=\"2020-03-22\"][\"new_cases\"].values,color=\"r\",label=\"Before Soc. Dist.\")\n",
    "plt.plot(days_btw_socDist_14,germany_data[(germany_data.date >= \"2020-03-22\") & (germany_data.date <= \"2020-04-05\")][\"new_cases\"].values,color=\"b\",label=\"1-14 days of Soc.Dist\")\n",
    "plt.plot(days_after_socDist_14,germany_data[germany_data[\"date\"]>=\"2020-04-05\"][\"new_cases\"].values,color=\"g\",label=\"+14 days after Soc Dist\")\n",
    "plt.title(\"Daily New Cases (Germany)\")\n",
    "plt.legend(loc=\"best\")\n",
    "plt.show()\n",
    "\n",
    "plt.plot([i for i in adjusted_dates if i<=25],italy_data[italy_data[\"date\"]<=\"2020-03-21\"][\"new_cases\"].values,color=\"r\",label=\"Before the Curfew\")\n",
    "plt.plot(quarantine_days14,italy_data[(italy_data.date >= \"2020-03-21\") & (italy_data.date <= \"2020-04-04\")][\"new_cases\"].values,color=\"b\",label=\"1-14 days of the Curfew\")\n",
    "plt.plot(quarantine_days_after14,italy_data[italy_data[\"date\"]>=\"2020-04-04\"][\"new_cases\"].values,color=\"g\",label=\"+14 days after Curfew\")\n",
    "plt.plot(25,italy_data[(italy_data.date== \"2020-03-21\")][\"new_cases\"].values[0], 'ro',color=\"r\") \n",
    "plt.plot(39,italy_data[(italy_data.date== \"2020-04-04\")][\"new_cases\"].values[0],'ro',color =\"g\") \n",
    "plt.xticks(np.arange(min(adjusted_dates), max(adjusted_dates)+1, 5))\n",
    "plt.title(\"Number of New Cases (Italy)\")\n",
    "plt.legend(loc=\"best\")\n",
    "plt.show()"
   ]
  },
  {
   "cell_type": "markdown",
   "metadata": {},
   "source": [
    "In both countries, after the decisions taken, the number of new cases starts to decrease significantly"
   ]
  },
  {
   "cell_type": "code",
   "execution_count": null,
   "metadata": {},
   "outputs": [],
   "source": []
  },
  {
   "cell_type": "code",
   "execution_count": null,
   "metadata": {},
   "outputs": [],
   "source": []
  },
  {
   "cell_type": "code",
   "execution_count": null,
   "metadata": {},
   "outputs": [],
   "source": []
  },
  {
   "cell_type": "code",
   "execution_count": null,
   "metadata": {},
   "outputs": [],
   "source": []
  },
  {
   "cell_type": "markdown",
   "metadata": {},
   "source": [
    "# Part - 3\n",
    "\n",
    "\n",
    " ## Problem-3 <a class=\"anchor\" id=\"problem3\"></a>\n",
    " \n",
    " We will examine the data of COVID-19 patients who died in Italy.So we will try to find what are the characteristics of 31,096 SARS-CoV-2 patients dying in Italy.\n",
    " \n",
    " After that, by using this information, we will try to predict total case and total death counts of the countries by using some machine learning algorithms."
   ]
  },
  {
   "cell_type": "markdown",
   "metadata": {},
   "source": [
    "## Data Understanding-3<a class=\"anchor\" id=\"data_understanding3\"></a>\n",
    "\n",
    "\n",
    "The data below is from the report prepared by Italian doctors. Data cannot be accessed due to patient privacy.\n",
    "But I have converted the statistics in pdf into csv and will visualize it here.\n",
    "Report describes characteristics of 31,096 SARS-CoV-2 patients dying in Italy: https://www.epicentro.iss.it/en/coronavirus/sars-cov-2-analysis-of-deaths\n",
    "\n",
    "\n",
    "Then we will work on a large dataset and estimate the total number of cases and deaths of some countries.In this dataset, there are 32 columns and more than 21.000 rows. It shows a lot different features of the all countries around the world.Since the dataset is too big we will apply some data preparation methods on it.\n",
    "https://ourworldindata.org/coronavirus-data-explorer?yScale=log&zoomToSelection=true&deathsMetric=true&dailyFreq=true&aligned=true&smoothing=7&country=USA+GBR+CAN+BRA+AUS+IND+ESP+DEU+FRA+RUS"
   ]
  },
  {
   "cell_type": "code",
   "execution_count": 28,
   "metadata": {},
   "outputs": [
    {
     "data": {
      "text/html": [
       "<div>\n",
       "<style scoped>\n",
       "    .dataframe tbody tr th:only-of-type {\n",
       "        vertical-align: middle;\n",
       "    }\n",
       "\n",
       "    .dataframe tbody tr th {\n",
       "        vertical-align: top;\n",
       "    }\n",
       "\n",
       "    .dataframe thead th {\n",
       "        text-align: right;\n",
       "    }\n",
       "</style>\n",
       "<table border=\"1\" class=\"dataframe\">\n",
       "  <thead>\n",
       "    <tr style=\"text-align: right;\">\n",
       "      <th></th>\n",
       "      <th>Age Interval</th>\n",
       "      <th>women</th>\n",
       "      <th>men</th>\n",
       "      <th>all</th>\n",
       "    </tr>\n",
       "  </thead>\n",
       "  <tbody>\n",
       "    <tr>\n",
       "      <th>0</th>\n",
       "      <td>0-9</td>\n",
       "      <td>3</td>\n",
       "      <td>1</td>\n",
       "      <td>4</td>\n",
       "    </tr>\n",
       "    <tr>\n",
       "      <th>1</th>\n",
       "      <td>10-19</td>\n",
       "      <td>0</td>\n",
       "      <td>0</td>\n",
       "      <td>0</td>\n",
       "    </tr>\n",
       "    <tr>\n",
       "      <th>2</th>\n",
       "      <td>20-29</td>\n",
       "      <td>3</td>\n",
       "      <td>10</td>\n",
       "      <td>13</td>\n",
       "    </tr>\n",
       "    <tr>\n",
       "      <th>3</th>\n",
       "      <td>30-39</td>\n",
       "      <td>20</td>\n",
       "      <td>41</td>\n",
       "      <td>61</td>\n",
       "    </tr>\n",
       "    <tr>\n",
       "      <th>4</th>\n",
       "      <td>40-49</td>\n",
       "      <td>70</td>\n",
       "      <td>199</td>\n",
       "      <td>269</td>\n",
       "    </tr>\n",
       "    <tr>\n",
       "      <th>5</th>\n",
       "      <td>50-59</td>\n",
       "      <td>250</td>\n",
       "      <td>852</td>\n",
       "      <td>1102</td>\n",
       "    </tr>\n",
       "    <tr>\n",
       "      <th>6</th>\n",
       "      <td>60-69</td>\n",
       "      <td>762</td>\n",
       "      <td>2463</td>\n",
       "      <td>3225</td>\n",
       "    </tr>\n",
       "    <tr>\n",
       "      <th>7</th>\n",
       "      <td>70-79</td>\n",
       "      <td>2526</td>\n",
       "      <td>5940</td>\n",
       "      <td>8466</td>\n",
       "    </tr>\n",
       "    <tr>\n",
       "      <th>8</th>\n",
       "      <td>80-89</td>\n",
       "      <td>5527</td>\n",
       "      <td>7202</td>\n",
       "      <td>12729</td>\n",
       "    </tr>\n",
       "    <tr>\n",
       "      <th>9</th>\n",
       "      <td>90+</td>\n",
       "      <td>3454</td>\n",
       "      <td>1773</td>\n",
       "      <td>5227</td>\n",
       "    </tr>\n",
       "  </tbody>\n",
       "</table>\n",
       "</div>"
      ],
      "text/plain": [
       "  Age Interval  women   men    all\n",
       "0          0-9      3     1      4\n",
       "1        10-19      0     0      0\n",
       "2        20-29      3    10     13\n",
       "3        30-39     20    41     61\n",
       "4        40-49     70   199    269\n",
       "5        50-59    250   852   1102\n",
       "6        60-69    762  2463   3225\n",
       "7        70-79   2526  5940   8466\n",
       "8        80-89   5527  7202  12729\n",
       "9          90+   3454  1773   5227"
      ]
     },
     "execution_count": 28,
     "metadata": {},
     "output_type": "execute_result"
    }
   ],
   "source": [
    "death_age_group = pd.read_csv(\"death_age_group.csv\")\n",
    "death_age_group.head(len(death_age_group))"
   ]
  },
  {
   "cell_type": "code",
   "execution_count": 29,
   "metadata": {},
   "outputs": [
    {
     "data": {
      "image/png": "[encoded data removed]",
      "text/plain": [
       "<Figure size 432x288 with 1 Axes>"
      ]
     },
     "metadata": {
      "needs_background": "light"
     },
     "output_type": "display_data"
    }
   ],
   "source": [
    "width =0.2\n",
    "plt.bar(np.arange(len(death_age_group[\"women\"].values)), death_age_group[\"women\"].values, width=width,color=\"g\",label='Women')\n",
    "plt.bar(np.arange(len(death_age_group[\"men\"].values))+ width, death_age_group[\"men\"].values, width=width,color=\"r\",label='Men')\n",
    "plt.xticks(np.arange(len(death_age_group[\"men\"].values))+width, ('0-9', '10-19', '20-29','20-29','30-39','40-49','50-59','60-69','70-79','80-89','90+'))\n",
    "plt.yticks(np.arange(0, 13000, step=1000))\n",
    "plt.title(\"Number of deaths group by Age\")\n",
    "plt.legend(loc=\"best\")\n",
    "plt.show()"
   ]
  },
  {
   "cell_type": "code",
   "execution_count": 30,
   "metadata": {},
   "outputs": [
    {
     "data": {
      "text/html": [
       "<div>\n",
       "<style scoped>\n",
       "    .dataframe tbody tr th:only-of-type {\n",
       "        vertical-align: middle;\n",
       "    }\n",
       "\n",
       "    .dataframe tbody tr th {\n",
       "        vertical-align: top;\n",
       "    }\n",
       "\n",
       "    .dataframe thead th {\n",
       "        text-align: right;\n",
       "    }\n",
       "</style>\n",
       "<table border=\"1\" class=\"dataframe\">\n",
       "  <thead>\n",
       "    <tr style=\"text-align: right;\">\n",
       "      <th></th>\n",
       "      <th>Diseases</th>\n",
       "      <th>Number</th>\n",
       "    </tr>\n",
       "  </thead>\n",
       "  <tbody>\n",
       "    <tr>\n",
       "      <th>0</th>\n",
       "      <td>Ischemic heart disease</td>\n",
       "      <td>856</td>\n",
       "    </tr>\n",
       "    <tr>\n",
       "      <th>1</th>\n",
       "      <td>Atrial Fibrillation</td>\n",
       "      <td>681</td>\n",
       "    </tr>\n",
       "    <tr>\n",
       "      <th>2</th>\n",
       "      <td>Heart failure</td>\n",
       "      <td>490</td>\n",
       "    </tr>\n",
       "    <tr>\n",
       "      <th>3</th>\n",
       "      <td>Stroke</td>\n",
       "      <td>310</td>\n",
       "    </tr>\n",
       "    <tr>\n",
       "      <th>4</th>\n",
       "      <td>Hypertension</td>\n",
       "      <td>2071</td>\n",
       "    </tr>\n",
       "  </tbody>\n",
       "</table>\n",
       "</div>"
      ],
      "text/plain": [
       "                 Diseases  Number\n",
       "0  Ischemic heart disease     856\n",
       "1     Atrial Fibrillation     681\n",
       "2           Heart failure     490\n",
       "3                  Stroke     310\n",
       "4            Hypertension    2071"
      ]
     },
     "execution_count": 30,
     "metadata": {},
     "output_type": "execute_result"
    }
   ],
   "source": [
    "report_diseases = pd.read_csv(\"diseases.csv\")\n",
    "report_diseases.head()"
   ]
  },
  {
   "cell_type": "code",
   "execution_count": 31,
   "metadata": {},
   "outputs": [
    {
     "data": {
      "image/png": "[encoded data removed]",
      "text/plain": [
       "<Figure size 432x288 with 1 Axes>"
      ]
     },
     "metadata": {
      "needs_background": "light"
     },
     "output_type": "display_data"
    }
   ],
   "source": [
    "bar_colors = ['brown','pink', 'red', 'green', 'blue','cyan','orange','purple']\n",
    "plt.bar(report_diseases[\"Diseases\"].values,report_diseases[\"Number\"],color = bar_colors)\n",
    "plt.xticks(rotation=90)\n",
    "plt.title(\"Pre-existing conditions of the Patients\")\n",
    "plt.show()"
   ]
  },
  {
   "cell_type": "markdown",
   "metadata": {},
   "source": []
  },
  {
   "cell_type": "code",
   "execution_count": 32,
   "metadata": {},
   "outputs": [
    {
     "data": {
      "text/plain": [
       "<bound method DataFrame.info of      Symptoms  Percentage\n",
       "0       Fever          76\n",
       "1    Dyspnoea          74\n",
       "2       Cough          39\n",
       "3    Diarrhea           6\n",
       "4  Hemoptysis           1>"
      ]
     },
     "execution_count": 32,
     "metadata": {},
     "output_type": "execute_result"
    }
   ],
   "source": [
    "report_symptoms = pd.read_csv(\"symptoms.csv\")\n",
    "report_symptoms.info"
   ]
  },
  {
   "cell_type": "code",
   "execution_count": 33,
   "metadata": {},
   "outputs": [
    {
     "data": {
      "image/png": "[encoded data removed]",
      "text/plain": [
       "<Figure size 432x288 with 1 Axes>"
      ]
     },
     "metadata": {
      "needs_background": "light"
     },
     "output_type": "display_data"
    }
   ],
   "source": [
    "bar_colors = ['yellow','pink', 'red', 'green', 'blue']\n",
    "plt.bar(report_symptoms[\"Symptoms\"].values,report_symptoms[\"Percentage\"],color=bar_colors)\n",
    "plt.xticks(rotation=90)\n",
    "plt.title(\"Symptoms of the positive deceased patients\")\n",
    "plt.show()\n"
   ]
  },
  {
   "cell_type": "markdown",
   "metadata": {},
   "source": [
    "As we understand from the data in the PDF, the mortality rate is much more in the elderly and those who have chronic conditions (especially diabetes and Hypertension). Most common symptoms are Fever and Dysphonea"
   ]
  },
  {
   "cell_type": "code",
   "execution_count": 34,
   "metadata": {},
   "outputs": [
    {
     "data": {
      "text/html": [
       "<div>\n",
       "<style scoped>\n",
       "    .dataframe tbody tr th:only-of-type {\n",
       "        vertical-align: middle;\n",
       "    }\n",
       "\n",
       "    .dataframe tbody tr th {\n",
       "        vertical-align: top;\n",
       "    }\n",
       "\n",
       "    .dataframe thead th {\n",
       "        text-align: right;\n",
       "    }\n",
       "</style>\n",
       "<table border=\"1\" class=\"dataframe\">\n",
       "  <thead>\n",
       "    <tr style=\"text-align: right;\">\n",
       "      <th></th>\n",
       "      <th>iso_code</th>\n",
       "      <th>location</th>\n",
       "      <th>date</th>\n",
       "      <th>total_cases</th>\n",
       "      <th>new_cases</th>\n",
       "      <th>total_deaths</th>\n",
       "      <th>new_deaths</th>\n",
       "      <th>total_cases_per_million</th>\n",
       "      <th>new_cases_per_million</th>\n",
       "      <th>total_deaths_per_million</th>\n",
       "      <th>...</th>\n",
       "      <th>aged_65_older</th>\n",
       "      <th>aged_70_older</th>\n",
       "      <th>gdp_per_capita</th>\n",
       "      <th>extreme_poverty</th>\n",
       "      <th>cvd_death_rate</th>\n",
       "      <th>diabetes_prevalence</th>\n",
       "      <th>female_smokers</th>\n",
       "      <th>male_smokers</th>\n",
       "      <th>handwashing_facilities</th>\n",
       "      <th>hospital_beds_per_100k</th>\n",
       "    </tr>\n",
       "  </thead>\n",
       "  <tbody>\n",
       "    <tr>\n",
       "      <th>0</th>\n",
       "      <td>ABW</td>\n",
       "      <td>Aruba</td>\n",
       "      <td>2020-03-13</td>\n",
       "      <td>2</td>\n",
       "      <td>2</td>\n",
       "      <td>0</td>\n",
       "      <td>0</td>\n",
       "      <td>18.733</td>\n",
       "      <td>18.733</td>\n",
       "      <td>0.0</td>\n",
       "      <td>...</td>\n",
       "      <td>13.085</td>\n",
       "      <td>7.452</td>\n",
       "      <td>35973.781</td>\n",
       "      <td>NaN</td>\n",
       "      <td>NaN</td>\n",
       "      <td>11.62</td>\n",
       "      <td>NaN</td>\n",
       "      <td>NaN</td>\n",
       "      <td>NaN</td>\n",
       "      <td>NaN</td>\n",
       "    </tr>\n",
       "    <tr>\n",
       "      <th>1</th>\n",
       "      <td>ABW</td>\n",
       "      <td>Aruba</td>\n",
       "      <td>2020-03-20</td>\n",
       "      <td>4</td>\n",
       "      <td>2</td>\n",
       "      <td>0</td>\n",
       "      <td>0</td>\n",
       "      <td>37.465</td>\n",
       "      <td>18.733</td>\n",
       "      <td>0.0</td>\n",
       "      <td>...</td>\n",
       "      <td>13.085</td>\n",
       "      <td>7.452</td>\n",
       "      <td>35973.781</td>\n",
       "      <td>NaN</td>\n",
       "      <td>NaN</td>\n",
       "      <td>11.62</td>\n",
       "      <td>NaN</td>\n",
       "      <td>NaN</td>\n",
       "      <td>NaN</td>\n",
       "      <td>NaN</td>\n",
       "    </tr>\n",
       "    <tr>\n",
       "      <th>2</th>\n",
       "      <td>ABW</td>\n",
       "      <td>Aruba</td>\n",
       "      <td>2020-03-24</td>\n",
       "      <td>12</td>\n",
       "      <td>8</td>\n",
       "      <td>0</td>\n",
       "      <td>0</td>\n",
       "      <td>112.395</td>\n",
       "      <td>74.930</td>\n",
       "      <td>0.0</td>\n",
       "      <td>...</td>\n",
       "      <td>13.085</td>\n",
       "      <td>7.452</td>\n",
       "      <td>35973.781</td>\n",
       "      <td>NaN</td>\n",
       "      <td>NaN</td>\n",
       "      <td>11.62</td>\n",
       "      <td>NaN</td>\n",
       "      <td>NaN</td>\n",
       "      <td>NaN</td>\n",
       "      <td>NaN</td>\n",
       "    </tr>\n",
       "    <tr>\n",
       "      <th>3</th>\n",
       "      <td>ABW</td>\n",
       "      <td>Aruba</td>\n",
       "      <td>2020-03-25</td>\n",
       "      <td>17</td>\n",
       "      <td>5</td>\n",
       "      <td>0</td>\n",
       "      <td>0</td>\n",
       "      <td>159.227</td>\n",
       "      <td>46.831</td>\n",
       "      <td>0.0</td>\n",
       "      <td>...</td>\n",
       "      <td>13.085</td>\n",
       "      <td>7.452</td>\n",
       "      <td>35973.781</td>\n",
       "      <td>NaN</td>\n",
       "      <td>NaN</td>\n",
       "      <td>11.62</td>\n",
       "      <td>NaN</td>\n",
       "      <td>NaN</td>\n",
       "      <td>NaN</td>\n",
       "      <td>NaN</td>\n",
       "    </tr>\n",
       "    <tr>\n",
       "      <th>4</th>\n",
       "      <td>ABW</td>\n",
       "      <td>Aruba</td>\n",
       "      <td>2020-03-26</td>\n",
       "      <td>19</td>\n",
       "      <td>2</td>\n",
       "      <td>0</td>\n",
       "      <td>0</td>\n",
       "      <td>177.959</td>\n",
       "      <td>18.733</td>\n",
       "      <td>0.0</td>\n",
       "      <td>...</td>\n",
       "      <td>13.085</td>\n",
       "      <td>7.452</td>\n",
       "      <td>35973.781</td>\n",
       "      <td>NaN</td>\n",
       "      <td>NaN</td>\n",
       "      <td>11.62</td>\n",
       "      <td>NaN</td>\n",
       "      <td>NaN</td>\n",
       "      <td>NaN</td>\n",
       "      <td>NaN</td>\n",
       "    </tr>\n",
       "  </tbody>\n",
       "</table>\n",
       "<p>5 rows × 32 columns</p>\n",
       "</div>"
      ],
      "text/plain": [
       "  iso_code location        date  total_cases  new_cases  total_deaths  \\\n",
       "0      ABW    Aruba  2020-03-13            2          2             0   \n",
       "1      ABW    Aruba  2020-03-20            4          2             0   \n",
       "2      ABW    Aruba  2020-03-24           12          8             0   \n",
       "3      ABW    Aruba  2020-03-25           17          5             0   \n",
       "4      ABW    Aruba  2020-03-26           19          2             0   \n",
       "\n",
       "   new_deaths  total_cases_per_million  new_cases_per_million  \\\n",
       "0           0                   18.733                 18.733   \n",
       "1           0                   37.465                 18.733   \n",
       "2           0                  112.395                 74.930   \n",
       "3           0                  159.227                 46.831   \n",
       "4           0                  177.959                 18.733   \n",
       "\n",
       "   total_deaths_per_million  ...  aged_65_older  aged_70_older  \\\n",
       "0                       0.0  ...         13.085          7.452   \n",
       "1                       0.0  ...         13.085          7.452   \n",
       "2                       0.0  ...         13.085          7.452   \n",
       "3                       0.0  ...         13.085          7.452   \n",
       "4                       0.0  ...         13.085          7.452   \n",
       "\n",
       "   gdp_per_capita  extreme_poverty  cvd_death_rate  diabetes_prevalence  \\\n",
       "0       35973.781              NaN             NaN                11.62   \n",
       "1       35973.781              NaN             NaN                11.62   \n",
       "2       35973.781              NaN             NaN                11.62   \n",
       "3       35973.781              NaN             NaN                11.62   \n",
       "4       35973.781              NaN             NaN                11.62   \n",
       "\n",
       "   female_smokers male_smokers  handwashing_facilities  hospital_beds_per_100k  \n",
       "0             NaN          NaN                     NaN                     NaN  \n",
       "1             NaN          NaN                     NaN                     NaN  \n",
       "2             NaN          NaN                     NaN                     NaN  \n",
       "3             NaN          NaN                     NaN                     NaN  \n",
       "4             NaN          NaN                     NaN                     NaN  \n",
       "\n",
       "[5 rows x 32 columns]"
      ]
     },
     "execution_count": 34,
     "metadata": {},
     "output_type": "execute_result"
    }
   ],
   "source": [
    "covid_data = pd.read_excel(\"covidGeneralData.xlsx\")\n",
    "covid_data.head()"
   ]
  },
  {
   "cell_type": "markdown",
   "metadata": {},
   "source": [
    "# Data Preparation-3<a class=\"anchor\" id=\"data_preparation3\"></a>\n",
    "\n",
    "We will now work on a large dataset, so we will try to use only useful data and shrink the dataset.\n",
    "Our goal here is to find the total number of cases and the total number of deaths for some of the countries of the world.\n",
    "In short, we will find how many cases and total deaths occurred in some countries on 20 May 2020.\n",
    "So we will only receive data from all countries on 20 May 2020.\n",
    "\n",
    "After that, we will delete some features that don't affect the number of cases and deaths (iso_code, stringency_index, extreme_poverty, gdp_per_capita etc ...)\n",
    "\n",
    "After examining the above graphs, we see that some columns are very important to us. ( \"Total_cases\", \"total_deaths\", \"hospital_beds_per_100k\", \"diabetes_prevalen by\", \"aged_65_old is\", \"is aged_70_old\")\n",
    "\n",
    "Therefore, we will delete the lines containing NaN value in any of these properties.\n",
    "\n",
    "Finally, we will look at the correlation table of the columns we have and delete some of the high correlation columns."
   ]
  },
  {
   "cell_type": "code",
   "execution_count": 35,
   "metadata": {},
   "outputs": [
    {
     "name": "stdout",
     "output_type": "stream",
     "text": [
      "<class 'pandas.core.frame.DataFrame'>\n",
      "Int64Index: 210 entries, 58 to 19220\n",
      "Data columns (total 32 columns):\n",
      "iso_code                           210 non-null object\n",
      "location                           210 non-null object\n",
      "date                               210 non-null object\n",
      "total_cases                        210 non-null int64\n",
      "new_cases                          210 non-null int64\n",
      "total_deaths                       210 non-null int64\n",
      "new_deaths                         210 non-null int64\n",
      "total_cases_per_million            210 non-null float64\n",
      "new_cases_per_million              210 non-null float64\n",
      "total_deaths_per_million           210 non-null float64\n",
      "new_deaths_per_million             210 non-null float64\n",
      "total_tests                        70 non-null float64\n",
      "new_tests                          65 non-null float64\n",
      "total_tests_per_thousand           70 non-null float64\n",
      "new_tests_per_thousand             65 non-null float64\n",
      "new_tests_smoothed                 71 non-null float64\n",
      "new_tests_smoothed_per_thousand    71 non-null float64\n",
      "tests_units                        71 non-null object\n",
      "stringency_index                   63 non-null float64\n",
      "population                         210 non-null float64\n",
      "population_density                 198 non-null float64\n",
      "median_age                         186 non-null float64\n",
      "aged_65_older                      183 non-null float64\n",
      "aged_70_older                      185 non-null float64\n",
      "gdp_per_capita                     182 non-null float64\n",
      "extreme_poverty                    121 non-null float64\n",
      "cvd_death_rate                     186 non-null float64\n",
      "diabetes_prevalence                193 non-null float64\n",
      "female_smokers                     141 non-null float64\n",
      "male_smokers                       139 non-null float64\n",
      "handwashing_facilities             92 non-null float64\n",
      "hospital_beds_per_100k             165 non-null float64\n",
      "dtypes: float64(24), int64(4), object(4)\n",
      "memory usage: 54.1+ KB\n"
     ]
    }
   ],
   "source": [
    "#1-) We will only use data from all countries on 20 May 2020.\n",
    "covid_data = covid_data[covid_data[\"date\"]==\"2020-05-20\"]\n",
    "covid_data.info()"
   ]
  },
  {
   "cell_type": "code",
   "execution_count": 36,
   "metadata": {},
   "outputs": [],
   "source": [
    "#Alttaki kümede NaN olan ülkeleri drop ediyor.\n",
    "#These data are directly related to the spread of the disease or mortality rates. So in these columns we will delete the rows with the value NaN.\n",
    "covid_data.dropna(subset = [\"total_cases\",\"total_deaths\",\"hospital_beds_per_100k\",\"diabetes_prevalence\",\"aged_65_older\",\"aged_70_older\"],inplace=True)"
   ]
  },
  {
   "cell_type": "markdown",
   "metadata": {},
   "source": [
    "We throw out the unnecessary columns. We don't need these columns. There is no scientific data on their direct influence on the epidemic."
   ]
  },
  {
   "cell_type": "code",
   "execution_count": 37,
   "metadata": {},
   "outputs": [],
   "source": [
    "covid_data.drop([\"iso_code\",\"stringency_index\",\"new_tests_smoothed_per_thousand\",\"new_tests_per_thousand\",\"female_smokers\",\"male_smokers\",\"total_cases_per_million\",\"total_tests\",\"new_tests\",\"new_cases_per_million\",\"new_deaths_per_million\",\"total_deaths_per_million\",\"extreme_poverty\",\"gdp_per_capita\",\"iso_code\",\"tests_units\",\"total_tests_per_thousand\",\"handwashing_facilities\",\"new_tests_smoothed\"],axis=1,inplace=True)\n",
    "covid_data = covid_data.reset_index()\n",
    "del covid_data[\"index\"]\n",
    "del covid_data[\"date\"] # Since all data from = 2020-05-20, we don't need this column\n"
   ]
  },
  {
   "cell_type": "code",
   "execution_count": 38,
   "metadata": {},
   "outputs": [
    {
     "data": {
      "text/html": [
       "<div>\n",
       "<style scoped>\n",
       "    .dataframe tbody tr th:only-of-type {\n",
       "        vertical-align: middle;\n",
       "    }\n",
       "\n",
       "    .dataframe tbody tr th {\n",
       "        vertical-align: top;\n",
       "    }\n",
       "\n",
       "    .dataframe thead th {\n",
       "        text-align: right;\n",
       "    }\n",
       "</style>\n",
       "<table border=\"1\" class=\"dataframe\">\n",
       "  <thead>\n",
       "    <tr style=\"text-align: right;\">\n",
       "      <th></th>\n",
       "      <th>total_cases</th>\n",
       "      <th>new_cases</th>\n",
       "      <th>total_deaths</th>\n",
       "      <th>new_deaths</th>\n",
       "      <th>population</th>\n",
       "      <th>population_density</th>\n",
       "      <th>median_age</th>\n",
       "      <th>aged_65_older</th>\n",
       "      <th>aged_70_older</th>\n",
       "      <th>cvd_death_rate</th>\n",
       "      <th>diabetes_prevalence</th>\n",
       "      <th>hospital_beds_per_100k</th>\n",
       "    </tr>\n",
       "  </thead>\n",
       "  <tbody>\n",
       "    <tr>\n",
       "      <th>total_cases</th>\n",
       "      <td>1.000000</td>\n",
       "      <td>0.982295</td>\n",
       "      <td>0.992584</td>\n",
       "      <td>0.982576</td>\n",
       "      <td>0.935218</td>\n",
       "      <td>-0.021500</td>\n",
       "      <td>0.053625</td>\n",
       "      <td>0.053989</td>\n",
       "      <td>0.050144</td>\n",
       "      <td>-0.058250</td>\n",
       "      <td>0.030122</td>\n",
       "      <td>0.008323</td>\n",
       "    </tr>\n",
       "    <tr>\n",
       "      <th>new_cases</th>\n",
       "      <td>0.982295</td>\n",
       "      <td>1.000000</td>\n",
       "      <td>0.969287</td>\n",
       "      <td>0.987465</td>\n",
       "      <td>0.946503</td>\n",
       "      <td>-0.023229</td>\n",
       "      <td>0.023994</td>\n",
       "      <td>0.010836</td>\n",
       "      <td>0.004981</td>\n",
       "      <td>-0.036359</td>\n",
       "      <td>0.040249</td>\n",
       "      <td>-0.008207</td>\n",
       "    </tr>\n",
       "    <tr>\n",
       "      <th>total_deaths</th>\n",
       "      <td>0.992584</td>\n",
       "      <td>0.969287</td>\n",
       "      <td>1.000000</td>\n",
       "      <td>0.979466</td>\n",
       "      <td>0.929223</td>\n",
       "      <td>-0.024857</td>\n",
       "      <td>0.069854</td>\n",
       "      <td>0.080072</td>\n",
       "      <td>0.077991</td>\n",
       "      <td>-0.082313</td>\n",
       "      <td>0.009917</td>\n",
       "      <td>0.004769</td>\n",
       "    </tr>\n",
       "    <tr>\n",
       "      <th>new_deaths</th>\n",
       "      <td>0.982576</td>\n",
       "      <td>0.987465</td>\n",
       "      <td>0.979466</td>\n",
       "      <td>1.000000</td>\n",
       "      <td>0.919088</td>\n",
       "      <td>-0.028066</td>\n",
       "      <td>0.040431</td>\n",
       "      <td>0.040904</td>\n",
       "      <td>0.035567</td>\n",
       "      <td>-0.066815</td>\n",
       "      <td>0.026856</td>\n",
       "      <td>-0.013655</td>\n",
       "    </tr>\n",
       "    <tr>\n",
       "      <th>population</th>\n",
       "      <td>0.935218</td>\n",
       "      <td>0.946503</td>\n",
       "      <td>0.929223</td>\n",
       "      <td>0.919088</td>\n",
       "      <td>1.000000</td>\n",
       "      <td>-0.014522</td>\n",
       "      <td>0.003789</td>\n",
       "      <td>-0.008665</td>\n",
       "      <td>-0.015966</td>\n",
       "      <td>-0.009242</td>\n",
       "      <td>0.029792</td>\n",
       "      <td>-0.015633</td>\n",
       "    </tr>\n",
       "    <tr>\n",
       "      <th>population_density</th>\n",
       "      <td>-0.021500</td>\n",
       "      <td>-0.023229</td>\n",
       "      <td>-0.024857</td>\n",
       "      <td>-0.028066</td>\n",
       "      <td>-0.014522</td>\n",
       "      <td>1.000000</td>\n",
       "      <td>0.133807</td>\n",
       "      <td>0.061999</td>\n",
       "      <td>0.032303</td>\n",
       "      <td>-0.160673</td>\n",
       "      <td>0.149892</td>\n",
       "      <td>-0.000359</td>\n",
       "    </tr>\n",
       "    <tr>\n",
       "      <th>median_age</th>\n",
       "      <td>0.053625</td>\n",
       "      <td>0.023994</td>\n",
       "      <td>0.069854</td>\n",
       "      <td>0.040431</td>\n",
       "      <td>0.003789</td>\n",
       "      <td>0.133807</td>\n",
       "      <td>1.000000</td>\n",
       "      <td>0.910433</td>\n",
       "      <td>0.897229</td>\n",
       "      <td>-0.322522</td>\n",
       "      <td>0.133892</td>\n",
       "      <td>0.658525</td>\n",
       "    </tr>\n",
       "    <tr>\n",
       "      <th>aged_65_older</th>\n",
       "      <td>0.053989</td>\n",
       "      <td>0.010836</td>\n",
       "      <td>0.080072</td>\n",
       "      <td>0.040904</td>\n",
       "      <td>-0.008665</td>\n",
       "      <td>0.061999</td>\n",
       "      <td>0.910433</td>\n",
       "      <td>1.000000</td>\n",
       "      <td>0.994511</td>\n",
       "      <td>-0.338094</td>\n",
       "      <td>-0.113970</td>\n",
       "      <td>0.647984</td>\n",
       "    </tr>\n",
       "    <tr>\n",
       "      <th>aged_70_older</th>\n",
       "      <td>0.050144</td>\n",
       "      <td>0.004981</td>\n",
       "      <td>0.077991</td>\n",
       "      <td>0.035567</td>\n",
       "      <td>-0.015966</td>\n",
       "      <td>0.032303</td>\n",
       "      <td>0.897229</td>\n",
       "      <td>0.994511</td>\n",
       "      <td>1.000000</td>\n",
       "      <td>-0.328632</td>\n",
       "      <td>-0.141414</td>\n",
       "      <td>0.650961</td>\n",
       "    </tr>\n",
       "    <tr>\n",
       "      <th>cvd_death_rate</th>\n",
       "      <td>-0.058250</td>\n",
       "      <td>-0.036359</td>\n",
       "      <td>-0.082313</td>\n",
       "      <td>-0.066815</td>\n",
       "      <td>-0.009242</td>\n",
       "      <td>-0.160673</td>\n",
       "      <td>-0.322522</td>\n",
       "      <td>-0.338094</td>\n",
       "      <td>-0.328632</td>\n",
       "      <td>1.000000</td>\n",
       "      <td>-0.006484</td>\n",
       "      <td>0.017972</td>\n",
       "    </tr>\n",
       "    <tr>\n",
       "      <th>diabetes_prevalence</th>\n",
       "      <td>0.030122</td>\n",
       "      <td>0.040249</td>\n",
       "      <td>0.009917</td>\n",
       "      <td>0.026856</td>\n",
       "      <td>0.029792</td>\n",
       "      <td>0.149892</td>\n",
       "      <td>0.133892</td>\n",
       "      <td>-0.113970</td>\n",
       "      <td>-0.141414</td>\n",
       "      <td>-0.006484</td>\n",
       "      <td>1.000000</td>\n",
       "      <td>-0.057050</td>\n",
       "    </tr>\n",
       "    <tr>\n",
       "      <th>hospital_beds_per_100k</th>\n",
       "      <td>0.008323</td>\n",
       "      <td>-0.008207</td>\n",
       "      <td>0.004769</td>\n",
       "      <td>-0.013655</td>\n",
       "      <td>-0.015633</td>\n",
       "      <td>-0.000359</td>\n",
       "      <td>0.658525</td>\n",
       "      <td>0.647984</td>\n",
       "      <td>0.650961</td>\n",
       "      <td>0.017972</td>\n",
       "      <td>-0.057050</td>\n",
       "      <td>1.000000</td>\n",
       "    </tr>\n",
       "  </tbody>\n",
       "</table>\n",
       "</div>"
      ],
      "text/plain": [
       "                        total_cases  new_cases  total_deaths  new_deaths  \\\n",
       "total_cases                1.000000   0.982295      0.992584    0.982576   \n",
       "new_cases                  0.982295   1.000000      0.969287    0.987465   \n",
       "total_deaths               0.992584   0.969287      1.000000    0.979466   \n",
       "new_deaths                 0.982576   0.987465      0.979466    1.000000   \n",
       "population                 0.935218   0.946503      0.929223    0.919088   \n",
       "population_density        -0.021500  -0.023229     -0.024857   -0.028066   \n",
       "median_age                 0.053625   0.023994      0.069854    0.040431   \n",
       "aged_65_older              0.053989   0.010836      0.080072    0.040904   \n",
       "aged_70_older              0.050144   0.004981      0.077991    0.035567   \n",
       "cvd_death_rate            -0.058250  -0.036359     -0.082313   -0.066815   \n",
       "diabetes_prevalence        0.030122   0.040249      0.009917    0.026856   \n",
       "hospital_beds_per_100k     0.008323  -0.008207      0.004769   -0.013655   \n",
       "\n",
       "                        population  population_density  median_age  \\\n",
       "total_cases               0.935218           -0.021500    0.053625   \n",
       "new_cases                 0.946503           -0.023229    0.023994   \n",
       "total_deaths              0.929223           -0.024857    0.069854   \n",
       "new_deaths                0.919088           -0.028066    0.040431   \n",
       "population                1.000000           -0.014522    0.003789   \n",
       "population_density       -0.014522            1.000000    0.133807   \n",
       "median_age                0.003789            0.133807    1.000000   \n",
       "aged_65_older            -0.008665            0.061999    0.910433   \n",
       "aged_70_older            -0.015966            0.032303    0.897229   \n",
       "cvd_death_rate           -0.009242           -0.160673   -0.322522   \n",
       "diabetes_prevalence       0.029792            0.149892    0.133892   \n",
       "hospital_beds_per_100k   -0.015633           -0.000359    0.658525   \n",
       "\n",
       "                        aged_65_older  aged_70_older  cvd_death_rate  \\\n",
       "total_cases                  0.053989       0.050144       -0.058250   \n",
       "new_cases                    0.010836       0.004981       -0.036359   \n",
       "total_deaths                 0.080072       0.077991       -0.082313   \n",
       "new_deaths                   0.040904       0.035567       -0.066815   \n",
       "population                  -0.008665      -0.015966       -0.009242   \n",
       "population_density           0.061999       0.032303       -0.160673   \n",
       "median_age                   0.910433       0.897229       -0.322522   \n",
       "aged_65_older                1.000000       0.994511       -0.338094   \n",
       "aged_70_older                0.994511       1.000000       -0.328632   \n",
       "cvd_death_rate              -0.338094      -0.328632        1.000000   \n",
       "diabetes_prevalence         -0.113970      -0.141414       -0.006484   \n",
       "hospital_beds_per_100k       0.647984       0.650961        0.017972   \n",
       "\n",
       "                        diabetes_prevalence  hospital_beds_per_100k  \n",
       "total_cases                        0.030122                0.008323  \n",
       "new_cases                          0.040249               -0.008207  \n",
       "total_deaths                       0.009917                0.004769  \n",
       "new_deaths                         0.026856               -0.013655  \n",
       "population                         0.029792               -0.015633  \n",
       "population_density                 0.149892               -0.000359  \n",
       "median_age                         0.133892                0.658525  \n",
       "aged_65_older                     -0.113970                0.647984  \n",
       "aged_70_older                     -0.141414                0.650961  \n",
       "cvd_death_rate                    -0.006484                0.017972  \n",
       "diabetes_prevalence                1.000000               -0.057050  \n",
       "hospital_beds_per_100k            -0.057050                1.000000  "
      ]
     },
     "execution_count": 38,
     "metadata": {},
     "output_type": "execute_result"
    }
   ],
   "source": [
    "covid_data.corr()"
   ]
  },
  {
   "cell_type": "code",
   "execution_count": 39,
   "metadata": {},
   "outputs": [
    {
     "data": {
      "text/html": [
       "<div>\n",
       "<style scoped>\n",
       "    .dataframe tbody tr th:only-of-type {\n",
       "        vertical-align: middle;\n",
       "    }\n",
       "\n",
       "    .dataframe tbody tr th {\n",
       "        vertical-align: top;\n",
       "    }\n",
       "\n",
       "    .dataframe thead th {\n",
       "        text-align: right;\n",
       "    }\n",
       "</style>\n",
       "<table border=\"1\" class=\"dataframe\">\n",
       "  <thead>\n",
       "    <tr style=\"text-align: right;\">\n",
       "      <th></th>\n",
       "      <th>total_cases</th>\n",
       "      <th>total_deaths</th>\n",
       "      <th>population</th>\n",
       "      <th>population_density</th>\n",
       "      <th>median_age</th>\n",
       "      <th>aged_65_older</th>\n",
       "      <th>aged_70_older</th>\n",
       "      <th>cvd_death_rate</th>\n",
       "      <th>diabetes_prevalence</th>\n",
       "      <th>hospital_beds_per_100k</th>\n",
       "    </tr>\n",
       "  </thead>\n",
       "  <tbody>\n",
       "    <tr>\n",
       "      <th>total_cases</th>\n",
       "      <td>1.000000</td>\n",
       "      <td>0.992584</td>\n",
       "      <td>0.935218</td>\n",
       "      <td>-0.021500</td>\n",
       "      <td>0.053625</td>\n",
       "      <td>0.053989</td>\n",
       "      <td>0.050144</td>\n",
       "      <td>-0.058250</td>\n",
       "      <td>0.030122</td>\n",
       "      <td>0.008323</td>\n",
       "    </tr>\n",
       "    <tr>\n",
       "      <th>total_deaths</th>\n",
       "      <td>0.992584</td>\n",
       "      <td>1.000000</td>\n",
       "      <td>0.929223</td>\n",
       "      <td>-0.024857</td>\n",
       "      <td>0.069854</td>\n",
       "      <td>0.080072</td>\n",
       "      <td>0.077991</td>\n",
       "      <td>-0.082313</td>\n",
       "      <td>0.009917</td>\n",
       "      <td>0.004769</td>\n",
       "    </tr>\n",
       "    <tr>\n",
       "      <th>population</th>\n",
       "      <td>0.935218</td>\n",
       "      <td>0.929223</td>\n",
       "      <td>1.000000</td>\n",
       "      <td>-0.014522</td>\n",
       "      <td>0.003789</td>\n",
       "      <td>-0.008665</td>\n",
       "      <td>-0.015966</td>\n",
       "      <td>-0.009242</td>\n",
       "      <td>0.029792</td>\n",
       "      <td>-0.015633</td>\n",
       "    </tr>\n",
       "    <tr>\n",
       "      <th>population_density</th>\n",
       "      <td>-0.021500</td>\n",
       "      <td>-0.024857</td>\n",
       "      <td>-0.014522</td>\n",
       "      <td>1.000000</td>\n",
       "      <td>0.133807</td>\n",
       "      <td>0.061999</td>\n",
       "      <td>0.032303</td>\n",
       "      <td>-0.160673</td>\n",
       "      <td>0.149892</td>\n",
       "      <td>-0.000359</td>\n",
       "    </tr>\n",
       "    <tr>\n",
       "      <th>median_age</th>\n",
       "      <td>0.053625</td>\n",
       "      <td>0.069854</td>\n",
       "      <td>0.003789</td>\n",
       "      <td>0.133807</td>\n",
       "      <td>1.000000</td>\n",
       "      <td>0.910433</td>\n",
       "      <td>0.897229</td>\n",
       "      <td>-0.322522</td>\n",
       "      <td>0.133892</td>\n",
       "      <td>0.658525</td>\n",
       "    </tr>\n",
       "    <tr>\n",
       "      <th>aged_65_older</th>\n",
       "      <td>0.053989</td>\n",
       "      <td>0.080072</td>\n",
       "      <td>-0.008665</td>\n",
       "      <td>0.061999</td>\n",
       "      <td>0.910433</td>\n",
       "      <td>1.000000</td>\n",
       "      <td>0.994511</td>\n",
       "      <td>-0.338094</td>\n",
       "      <td>-0.113970</td>\n",
       "      <td>0.647984</td>\n",
       "    </tr>\n",
       "    <tr>\n",
       "      <th>aged_70_older</th>\n",
       "      <td>0.050144</td>\n",
       "      <td>0.077991</td>\n",
       "      <td>-0.015966</td>\n",
       "      <td>0.032303</td>\n",
       "      <td>0.897229</td>\n",
       "      <td>0.994511</td>\n",
       "      <td>1.000000</td>\n",
       "      <td>-0.328632</td>\n",
       "      <td>-0.141414</td>\n",
       "      <td>0.650961</td>\n",
       "    </tr>\n",
       "    <tr>\n",
       "      <th>cvd_death_rate</th>\n",
       "      <td>-0.058250</td>\n",
       "      <td>-0.082313</td>\n",
       "      <td>-0.009242</td>\n",
       "      <td>-0.160673</td>\n",
       "      <td>-0.322522</td>\n",
       "      <td>-0.338094</td>\n",
       "      <td>-0.328632</td>\n",
       "      <td>1.000000</td>\n",
       "      <td>-0.006484</td>\n",
       "      <td>0.017972</td>\n",
       "    </tr>\n",
       "    <tr>\n",
       "      <th>diabetes_prevalence</th>\n",
       "      <td>0.030122</td>\n",
       "      <td>0.009917</td>\n",
       "      <td>0.029792</td>\n",
       "      <td>0.149892</td>\n",
       "      <td>0.133892</td>\n",
       "      <td>-0.113970</td>\n",
       "      <td>-0.141414</td>\n",
       "      <td>-0.006484</td>\n",
       "      <td>1.000000</td>\n",
       "      <td>-0.057050</td>\n",
       "    </tr>\n",
       "    <tr>\n",
       "      <th>hospital_beds_per_100k</th>\n",
       "      <td>0.008323</td>\n",
       "      <td>0.004769</td>\n",
       "      <td>-0.015633</td>\n",
       "      <td>-0.000359</td>\n",
       "      <td>0.658525</td>\n",
       "      <td>0.647984</td>\n",
       "      <td>0.650961</td>\n",
       "      <td>0.017972</td>\n",
       "      <td>-0.057050</td>\n",
       "      <td>1.000000</td>\n",
       "    </tr>\n",
       "  </tbody>\n",
       "</table>\n",
       "</div>"
      ],
      "text/plain": [
       "                        total_cases  total_deaths  population  \\\n",
       "total_cases                1.000000      0.992584    0.935218   \n",
       "total_deaths               0.992584      1.000000    0.929223   \n",
       "population                 0.935218      0.929223    1.000000   \n",
       "population_density        -0.021500     -0.024857   -0.014522   \n",
       "median_age                 0.053625      0.069854    0.003789   \n",
       "aged_65_older              0.053989      0.080072   -0.008665   \n",
       "aged_70_older              0.050144      0.077991   -0.015966   \n",
       "cvd_death_rate            -0.058250     -0.082313   -0.009242   \n",
       "diabetes_prevalence        0.030122      0.009917    0.029792   \n",
       "hospital_beds_per_100k     0.008323      0.004769   -0.015633   \n",
       "\n",
       "                        population_density  median_age  aged_65_older  \\\n",
       "total_cases                      -0.021500    0.053625       0.053989   \n",
       "total_deaths                     -0.024857    0.069854       0.080072   \n",
       "population                       -0.014522    0.003789      -0.008665   \n",
       "population_density                1.000000    0.133807       0.061999   \n",
       "median_age                        0.133807    1.000000       0.910433   \n",
       "aged_65_older                     0.061999    0.910433       1.000000   \n",
       "aged_70_older                     0.032303    0.897229       0.994511   \n",
       "cvd_death_rate                   -0.160673   -0.322522      -0.338094   \n",
       "diabetes_prevalence               0.149892    0.133892      -0.113970   \n",
       "hospital_beds_per_100k           -0.000359    0.658525       0.647984   \n",
       "\n",
       "                        aged_70_older  cvd_death_rate  diabetes_prevalence  \\\n",
       "total_cases                  0.050144       -0.058250             0.030122   \n",
       "total_deaths                 0.077991       -0.082313             0.009917   \n",
       "population                  -0.015966       -0.009242             0.029792   \n",
       "population_density           0.032303       -0.160673             0.149892   \n",
       "median_age                   0.897229       -0.322522             0.133892   \n",
       "aged_65_older                0.994511       -0.338094            -0.113970   \n",
       "aged_70_older                1.000000       -0.328632            -0.141414   \n",
       "cvd_death_rate              -0.328632        1.000000            -0.006484   \n",
       "diabetes_prevalence         -0.141414       -0.006484             1.000000   \n",
       "hospital_beds_per_100k       0.650961        0.017972            -0.057050   \n",
       "\n",
       "                        hospital_beds_per_100k  \n",
       "total_cases                           0.008323  \n",
       "total_deaths                          0.004769  \n",
       "population                           -0.015633  \n",
       "population_density                   -0.000359  \n",
       "median_age                            0.658525  \n",
       "aged_65_older                         0.647984  \n",
       "aged_70_older                         0.650961  \n",
       "cvd_death_rate                        0.017972  \n",
       "diabetes_prevalence                  -0.057050  \n",
       "hospital_beds_per_100k                1.000000  "
      ]
     },
     "execution_count": 39,
     "metadata": {},
     "output_type": "execute_result"
    }
   ],
   "source": [
    "#Korelasyon incelemesinin ardından silinecek kolonlar\n",
    "del covid_data[\"new_cases\"]\n",
    "del covid_data[\"new_deaths\"]\n",
    "\n",
    "covid_data.corr()\n",
    "\n",
    "# total_cases ve total_deaths, makine öğrenmesi sonucunda tahmin edileceği için bu iki kolon da silinmeyecek"
   ]
  },
  {
   "cell_type": "markdown",
   "metadata": {},
   "source": [
    "## Modeling-3<a class=\"anchor\" id=\"modeling3\"></a>\n",
    "\n",
    "In this part we will try to predict number of total cases and total deaths of the random countries (on 20 May 2020)\n",
    "We're going to use different Regression models (Linear Regresssion,Polynomial Regression and SVR with three different kernel)\n",
    "\n",
    "I code the models as functions, so we can use them again and again without any code re-write.\n"
   ]
  },
  {
   "cell_type": "code",
   "execution_count": 40,
   "metadata": {},
   "outputs": [],
   "source": [
    "def linear_prediction(X,Y, prediction_category):\n",
    "    X_train_case, X_test_case, y_train_case, y_test_case = train_test_split(X, Y, test_size=0.33,random_state=21)\n",
    "    #doğrusal model oluşturma\n",
    "    lin_reg = LinearRegression()\n",
    "    lin_reg.fit(X_train_case,y_train_case)\n",
    "    print(\"Linear R2 value(\"+prediction_category+\"):\",r2_score(y_test_case, lin_reg.predict((X_test_case))))\n",
    "    # Gorsellestirme\n",
    "    plt.plot(y_test_case,color='red',label=\"Real \"+prediction_category)\n",
    "    plt.plot(lin_reg.predict(X_test_case), color = 'blue',label=\"Predicted \"+prediction_category)\n",
    "    plt.title(\"Linear Prediction(\"+prediction_category +\")\")\n",
    "    plt.legend(loc=\"best\")\n",
    "    plt.show()\n",
    "\n"
   ]
  },
  {
   "cell_type": "code",
   "execution_count": 41,
   "metadata": {},
   "outputs": [],
   "source": [
    "from sklearn.pipeline import make_pipeline\n",
    "\n",
    "def polyReg_prediction(X,Y,deg,prediction_category):\n",
    "    x_training_set, x_test_set, y_training_set, y_test_set = train_test_split(X,Y,test_size=0.10, random_state=21)\n",
    "    model = make_pipeline(PolynomialFeatures(deg), LinearRegression())\n",
    "    model.fit(x_training_set,y_training_set)\n",
    "    pred = model.predict(x_test_set)\n",
    "    print(\"Poly. Reg R2 value:\",r2_score(y_test_set, pred))"
   ]
  },
  {
   "cell_type": "markdown",
   "metadata": {},
   "source": [
    "In this section, we will try to predict using Support Vector Regression. We need to normalize the data to use SVR"
   ]
  },
  {
   "cell_type": "code",
   "execution_count": 42,
   "metadata": {},
   "outputs": [],
   "source": [
    "def svr_prediction(X,Y,prediction_category):\n",
    "    X_train_case, X_test_case, y_train_case, y_test_case = train_test_split(X, Y, test_size=0.33,random_state=21)\n",
    "    #Normalization&Standardization across instances should be done after splitting the data between training and test set(note from bbm)\n",
    "    sc = StandardScaler()\n",
    "    x_train_scaled = sc.fit_transform(X_train_case)\n",
    "    y_train_scaled = sc.fit_transform(y_train_case)\n",
    "    x_test_scaled = sc.fit_transform(X_test_case)\n",
    "    y_test_scaled = sc.fit_transform(y_test_case)\n",
    "\n",
    "    svr_rbf = SVR(kernel = 'rbf')\n",
    "    svr_rbf.fit(x_train_scaled,y_train_scaled.ravel())\n",
    "    print(\"SVR(Rbf kernel) R2 value:\",r2_score(y_test_scaled, svr_rbf.predict(x_test_scaled)))\n",
    "\n",
    "    svr_lin = SVR(kernel = 'linear')\n",
    "    svr_lin.fit(x_train_scaled,y_train_scaled.ravel())\n",
    "    print(\"SVR(Linear kernel) R2 value:\",r2_score(y_test_scaled, svr_lin.predict(x_test_scaled)))\n",
    "\n",
    "    svr_poly = SVR(kernel = 'poly')\n",
    "    svr_poly.fit(x_train_scaled,y_train_scaled.ravel())\n",
    "    print(\"SVR(Poly kernel) R2 value:\",r2_score(y_test_scaled, svr_poly.predict(x_test_scaled)))\n",
    "\n",
    "\n",
    "    plt.plot(y_test_scaled,color='black',label=\"Real Values\")\n",
    "    plt.plot(svr_rbf.predict(x_test_scaled), color = 'blue',label=prediction_category +\" pred. (RBF)\")\n",
    "    plt.plot(svr_lin.predict(x_test_scaled), color = 'yellow',label=prediction_category+ \" pred. (Linear)\")\n",
    "    plt.plot(svr_poly.predict(x_test_scaled), color = 'red',label=prediction_category + \" pred. (Poly)\")\n",
    "    plt.legend(loc=\"best\")\n",
    "    plt.title(\"SVR Prediction(\"+prediction_category +\")\")\n",
    "    plt.show()\n",
    "    \n"
   ]
  },
  {
   "cell_type": "markdown",
   "metadata": {},
   "source": [
    "## Evaluation-3<a class=\"anchor\" id=\"evaluation3\"></a>\n",
    "Since we use different models to predict both total case and total death, we will evaluate the results at their own section."
   ]
  },
  {
   "cell_type": "markdown",
   "metadata": {},
   "source": [
    "# Total Case Prediction\n",
    "\n",
    "SVR, Linear Regression and Polynomial Regression models will be used in this section"
   ]
  },
  {
   "cell_type": "code",
   "execution_count": 43,
   "metadata": {},
   "outputs": [],
   "source": [
    "x_case = covid_data.iloc[:,2:] # All columns except total_case\n",
    "y_case = covid_data.iloc[:,1:2] #Total Case column\n",
    "\n",
    "#NumPY dizi (array) dönüşümü\n",
    "X_case = x_case.values\n",
    "Y_case = y_case.values"
   ]
  },
  {
   "cell_type": "code",
   "execution_count": 44,
   "metadata": {},
   "outputs": [
    {
     "name": "stdout",
     "output_type": "stream",
     "text": [
      "SVR(Rbf kernel) R2 value: 0.0830043245586437\n",
      "SVR(Linear kernel) R2 value: 0.9853637330658226\n",
      "SVR(Poly kernel) R2 value: 0.8970122275779293\n"
     ]
    },
    {
     "data": {
      "image/png": "[encoded data removed]",
      "text/plain": [
       "<Figure size 432x288 with 1 Axes>"
      ]
     },
     "metadata": {
      "needs_background": "light"
     },
     "output_type": "display_data"
    }
   ],
   "source": [
    "svr_prediction(X_case,Y_case,\"Tot_case\")"
   ]
  },
  {
   "cell_type": "markdown",
   "metadata": {},
   "source": [
    "We see the results of the three SVR models we use. While the results are quite good in Linear Kernel and Polynomial Kernel, we see that RBF does not give good results in this data model. The reason why Linear kernel has been so successful shows that there is a direct relationship between the total case and other columns."
   ]
  },
  {
   "cell_type": "code",
   "execution_count": 45,
   "metadata": {},
   "outputs": [
    {
     "name": "stdout",
     "output_type": "stream",
     "text": [
      "Linear R2 value(Tot_case): 0.975841476840208\n"
     ]
    },
    {
     "data": {
      "image/png": "[encoded data removed]",
      "text/plain": [
       "<Figure size 432x288 with 1 Axes>"
      ]
     },
     "metadata": {
      "needs_background": "light"
     },
     "output_type": "display_data"
    }
   ],
   "source": [
    "linear_prediction(X_case,Y_case,\"Tot_case\")"
   ]
  },
  {
   "cell_type": "markdown",
   "metadata": {},
   "source": [
    "In the previous model, we mentioned that there might be a linear relationship between Total case and other columns.To verify this, we used the linear Regression model directly.\n",
    "This model also has a very good accuracy rate. So we can say that there is a linear relation between Total case and other features"
   ]
  },
  {
   "cell_type": "code",
   "execution_count": 46,
   "metadata": {},
   "outputs": [
    {
     "name": "stdout",
     "output_type": "stream",
     "text": [
      "Poly. Reg R2 value: 0.6271960358872187\n"
     ]
    }
   ],
   "source": [
    "polyReg_prediction(X_case,Y_case,2,\"Tot_case\") "
   ]
  },
  {
   "cell_type": "markdown",
   "metadata": {},
   "source": [
    "We see that the second degree polynomal regression also gives an average result. Lets see the results of the degree = 3 and degree = 5:"
   ]
  },
  {
   "cell_type": "code",
   "execution_count": 47,
   "metadata": {},
   "outputs": [
    {
     "name": "stdout",
     "output_type": "stream",
     "text": [
      "Poly. Reg R2 value: 0.11669455902544712\n",
      "Poly. Reg R2 value: -1.283071236461804\n"
     ]
    }
   ],
   "source": [
    "polyReg_prediction(X_case,Y_case,3,\"Tot_case\") \n",
    "polyReg_prediction(X_case,Y_case,5,\"Tot_case\") "
   ]
  },
  {
   "cell_type": "markdown",
   "metadata": {},
   "source": [
    "As the polynomal degree increases, the result gets incredibly bad.\n",
    "\n",
    "As we can see from here, there is a linear connection between the total case column and the other columns."
   ]
  },
  {
   "cell_type": "markdown",
   "metadata": {},
   "source": [
    "# Total Death Prediction"
   ]
  },
  {
   "cell_type": "code",
   "execution_count": 48,
   "metadata": {},
   "outputs": [
    {
     "data": {
      "text/html": [
       "<div>\n",
       "<style scoped>\n",
       "    .dataframe tbody tr th:only-of-type {\n",
       "        vertical-align: middle;\n",
       "    }\n",
       "\n",
       "    .dataframe tbody tr th {\n",
       "        vertical-align: top;\n",
       "    }\n",
       "\n",
       "    .dataframe thead th {\n",
       "        text-align: right;\n",
       "    }\n",
       "</style>\n",
       "<table border=\"1\" class=\"dataframe\">\n",
       "  <thead>\n",
       "    <tr style=\"text-align: right;\">\n",
       "      <th></th>\n",
       "      <th>location</th>\n",
       "      <th>total_cases</th>\n",
       "      <th>total_deaths</th>\n",
       "      <th>population</th>\n",
       "      <th>population_density</th>\n",
       "      <th>median_age</th>\n",
       "      <th>aged_65_older</th>\n",
       "      <th>aged_70_older</th>\n",
       "      <th>cvd_death_rate</th>\n",
       "      <th>diabetes_prevalence</th>\n",
       "      <th>hospital_beds_per_100k</th>\n",
       "    </tr>\n",
       "  </thead>\n",
       "  <tbody>\n",
       "    <tr>\n",
       "      <th>0</th>\n",
       "      <td>Afghanistan</td>\n",
       "      <td>7653</td>\n",
       "      <td>178</td>\n",
       "      <td>3.892834e+07</td>\n",
       "      <td>54.422</td>\n",
       "      <td>18.6</td>\n",
       "      <td>2.581</td>\n",
       "      <td>1.337</td>\n",
       "      <td>597.029</td>\n",
       "      <td>9.59</td>\n",
       "      <td>0.500</td>\n",
       "    </tr>\n",
       "    <tr>\n",
       "      <th>1</th>\n",
       "      <td>Albania</td>\n",
       "      <td>949</td>\n",
       "      <td>31</td>\n",
       "      <td>2.877800e+06</td>\n",
       "      <td>104.871</td>\n",
       "      <td>38.0</td>\n",
       "      <td>13.188</td>\n",
       "      <td>8.643</td>\n",
       "      <td>304.195</td>\n",
       "      <td>10.08</td>\n",
       "      <td>2.890</td>\n",
       "    </tr>\n",
       "    <tr>\n",
       "      <th>2</th>\n",
       "      <td>United Arab Emirates</td>\n",
       "      <td>25063</td>\n",
       "      <td>227</td>\n",
       "      <td>9.890400e+06</td>\n",
       "      <td>112.442</td>\n",
       "      <td>34.0</td>\n",
       "      <td>1.144</td>\n",
       "      <td>0.526</td>\n",
       "      <td>317.840</td>\n",
       "      <td>17.26</td>\n",
       "      <td>1.200</td>\n",
       "    </tr>\n",
       "    <tr>\n",
       "      <th>3</th>\n",
       "      <td>Argentina</td>\n",
       "      <td>8796</td>\n",
       "      <td>393</td>\n",
       "      <td>4.519578e+07</td>\n",
       "      <td>16.177</td>\n",
       "      <td>31.9</td>\n",
       "      <td>11.198</td>\n",
       "      <td>7.441</td>\n",
       "      <td>191.032</td>\n",
       "      <td>5.50</td>\n",
       "      <td>5.000</td>\n",
       "    </tr>\n",
       "    <tr>\n",
       "      <th>4</th>\n",
       "      <td>Armenia</td>\n",
       "      <td>5041</td>\n",
       "      <td>64</td>\n",
       "      <td>2.963234e+06</td>\n",
       "      <td>102.931</td>\n",
       "      <td>35.7</td>\n",
       "      <td>11.232</td>\n",
       "      <td>7.571</td>\n",
       "      <td>341.010</td>\n",
       "      <td>7.11</td>\n",
       "      <td>4.200</td>\n",
       "    </tr>\n",
       "    <tr>\n",
       "      <th>...</th>\n",
       "      <td>...</td>\n",
       "      <td>...</td>\n",
       "      <td>...</td>\n",
       "      <td>...</td>\n",
       "      <td>...</td>\n",
       "      <td>...</td>\n",
       "      <td>...</td>\n",
       "      <td>...</td>\n",
       "      <td>...</td>\n",
       "      <td>...</td>\n",
       "      <td>...</td>\n",
       "    </tr>\n",
       "    <tr>\n",
       "      <th>153</th>\n",
       "      <td>Yemen</td>\n",
       "      <td>167</td>\n",
       "      <td>28</td>\n",
       "      <td>2.982597e+07</td>\n",
       "      <td>53.508</td>\n",
       "      <td>20.3</td>\n",
       "      <td>2.922</td>\n",
       "      <td>1.583</td>\n",
       "      <td>495.003</td>\n",
       "      <td>5.35</td>\n",
       "      <td>0.700</td>\n",
       "    </tr>\n",
       "    <tr>\n",
       "      <th>154</th>\n",
       "      <td>South Africa</td>\n",
       "      <td>17200</td>\n",
       "      <td>312</td>\n",
       "      <td>5.930869e+07</td>\n",
       "      <td>46.754</td>\n",
       "      <td>27.3</td>\n",
       "      <td>5.344</td>\n",
       "      <td>3.053</td>\n",
       "      <td>200.380</td>\n",
       "      <td>5.52</td>\n",
       "      <td>2.320</td>\n",
       "    </tr>\n",
       "    <tr>\n",
       "      <th>155</th>\n",
       "      <td>Zambia</td>\n",
       "      <td>772</td>\n",
       "      <td>7</td>\n",
       "      <td>1.838396e+07</td>\n",
       "      <td>22.995</td>\n",
       "      <td>17.7</td>\n",
       "      <td>2.480</td>\n",
       "      <td>1.542</td>\n",
       "      <td>234.499</td>\n",
       "      <td>3.94</td>\n",
       "      <td>2.000</td>\n",
       "    </tr>\n",
       "    <tr>\n",
       "      <th>156</th>\n",
       "      <td>Zimbabwe</td>\n",
       "      <td>46</td>\n",
       "      <td>4</td>\n",
       "      <td>1.486293e+07</td>\n",
       "      <td>42.729</td>\n",
       "      <td>19.6</td>\n",
       "      <td>2.822</td>\n",
       "      <td>1.882</td>\n",
       "      <td>307.846</td>\n",
       "      <td>1.82</td>\n",
       "      <td>1.700</td>\n",
       "    </tr>\n",
       "    <tr>\n",
       "      <th>157</th>\n",
       "      <td>World</td>\n",
       "      <td>4861974</td>\n",
       "      <td>323156</td>\n",
       "      <td>7.794799e+09</td>\n",
       "      <td>58.045</td>\n",
       "      <td>30.9</td>\n",
       "      <td>8.696</td>\n",
       "      <td>5.355</td>\n",
       "      <td>233.070</td>\n",
       "      <td>8.51</td>\n",
       "      <td>2.705</td>\n",
       "    </tr>\n",
       "  </tbody>\n",
       "</table>\n",
       "<p>158 rows × 11 columns</p>\n",
       "</div>"
      ],
      "text/plain": [
       "                 location  total_cases  total_deaths    population  \\\n",
       "0             Afghanistan         7653           178  3.892834e+07   \n",
       "1                 Albania          949            31  2.877800e+06   \n",
       "2    United Arab Emirates        25063           227  9.890400e+06   \n",
       "3               Argentina         8796           393  4.519578e+07   \n",
       "4                 Armenia         5041            64  2.963234e+06   \n",
       "..                    ...          ...           ...           ...   \n",
       "153                 Yemen          167            28  2.982597e+07   \n",
       "154          South Africa        17200           312  5.930869e+07   \n",
       "155                Zambia          772             7  1.838396e+07   \n",
       "156              Zimbabwe           46             4  1.486293e+07   \n",
       "157                 World      4861974        323156  7.794799e+09   \n",
       "\n",
       "     population_density  median_age  aged_65_older  aged_70_older  \\\n",
       "0                54.422        18.6          2.581          1.337   \n",
       "1               104.871        38.0         13.188          8.643   \n",
       "2               112.442        34.0          1.144          0.526   \n",
       "3                16.177        31.9         11.198          7.441   \n",
       "4               102.931        35.7         11.232          7.571   \n",
       "..                  ...         ...            ...            ...   \n",
       "153              53.508        20.3          2.922          1.583   \n",
       "154              46.754        27.3          5.344          3.053   \n",
       "155              22.995        17.7          2.480          1.542   \n",
       "156              42.729        19.6          2.822          1.882   \n",
       "157              58.045        30.9          8.696          5.355   \n",
       "\n",
       "     cvd_death_rate  diabetes_prevalence  hospital_beds_per_100k  \n",
       "0           597.029                 9.59                   0.500  \n",
       "1           304.195                10.08                   2.890  \n",
       "2           317.840                17.26                   1.200  \n",
       "3           191.032                 5.50                   5.000  \n",
       "4           341.010                 7.11                   4.200  \n",
       "..              ...                  ...                     ...  \n",
       "153         495.003                 5.35                   0.700  \n",
       "154         200.380                 5.52                   2.320  \n",
       "155         234.499                 3.94                   2.000  \n",
       "156         307.846                 1.82                   1.700  \n",
       "157         233.070                 8.51                   2.705  \n",
       "\n",
       "[158 rows x 11 columns]"
      ]
     },
     "execution_count": 48,
     "metadata": {},
     "output_type": "execute_result"
    }
   ],
   "source": [
    "covid_data"
   ]
  },
  {
   "cell_type": "code",
   "execution_count": 49,
   "metadata": {},
   "outputs": [],
   "source": [
    "x_deaths = covid_data.iloc[:,3:]\n",
    "x_deaths = pd.concat([x_deaths,  covid_data[\"total_cases\"]], axis=1, sort=False)\n",
    "y_deaths = covid_data.iloc[:,2:3]\n",
    "\n",
    "#NumPY dizi (array) dönüşümü\n",
    "X_deaths = x_deaths.values\n",
    "Y_deaths = y_deaths.values"
   ]
  },
  {
   "cell_type": "code",
   "execution_count": 50,
   "metadata": {},
   "outputs": [
    {
     "name": "stdout",
     "output_type": "stream",
     "text": [
      "SVR(Rbf kernel) R2 value: 0.07112694703453959\n",
      "SVR(Linear kernel) R2 value: 0.9847276962283387\n",
      "SVR(Poly kernel) R2 value: 0.470970385329355\n"
     ]
    },
    {
     "data": {
      "image/png": "[encoded data removed]",
      "text/plain": [
       "<Figure size 432x288 with 1 Axes>"
      ]
     },
     "metadata": {
      "needs_background": "light"
     },
     "output_type": "display_data"
    }
   ],
   "source": [
    "svr_prediction(X_deaths,Y_deaths,\"Tot_death\")"
   ]
  },
  {
   "cell_type": "markdown",
   "metadata": {},
   "source": [
    "The situation is almost the same in total death. Linear kernel gives very good results while other kernels give bad results."
   ]
  },
  {
   "cell_type": "code",
   "execution_count": 51,
   "metadata": {},
   "outputs": [
    {
     "name": "stdout",
     "output_type": "stream",
     "text": [
      "Linear R2 value(Tot_death): 0.9747988856118607\n"
     ]
    },
    {
     "data": {
      "image/png": "[encoded data removed]",
      "text/plain": [
       "<Figure size 432x288 with 1 Axes>"
      ]
     },
     "metadata": {
      "needs_background": "light"
     },
     "output_type": "display_data"
    }
   ],
   "source": [
    "linear_prediction(X_deaths,Y_deaths,\"Tot_death\")"
   ]
  },
  {
   "cell_type": "code",
   "execution_count": 52,
   "metadata": {},
   "outputs": [
    {
     "name": "stdout",
     "output_type": "stream",
     "text": [
      "Poly. Reg R2 value: 0.8531232458105882\n"
     ]
    }
   ],
   "source": [
    "polyReg_prediction(X_deaths,Y_deaths,2,\"Tot_death\")"
   ]
  },
  {
   "cell_type": "code",
   "execution_count": 53,
   "metadata": {},
   "outputs": [
    {
     "name": "stdout",
     "output_type": "stream",
     "text": [
      "Poly. Reg R2 value: 0.8492785987942582\n"
     ]
    }
   ],
   "source": [
    "polyReg_prediction(X_deaths,Y_deaths,3,\"Tot_death\")\n"
   ]
  },
  {
   "cell_type": "code",
   "execution_count": 54,
   "metadata": {},
   "outputs": [
    {
     "name": "stdout",
     "output_type": "stream",
     "text": [
      "Poly. Reg R2 value: -0.07874071891800827\n"
     ]
    }
   ],
   "source": [
    "polyReg_prediction(X_deaths,Y_deaths,5,\"Tot_death\")"
   ]
  },
  {
   "cell_type": "markdown",
   "metadata": {},
   "source": [
    "As the polynomal degree increases, we can see that the results go very badly. This shows that there is a first-order linear connection between them."
   ]
  },
  {
   "cell_type": "markdown",
   "metadata": {},
   "source": [
    "# References<a class=\"anchor\" id=\"references\"></a>\n",
    "\n",
    "All references (For all of the three parts)\n",
    "References of related datasets are specified in the Data Understanding sections as links\n",
    "\n",
    "1-) https://scikit-learn.org/stable/\n",
    "\n",
    "2-) https://pandas.pydata.org/pandas-docs/stable/user_guide/visualization.html\n",
    "\n",
    "3-) https://www.kaggle.com/sudalairajkumar/novel-corona-virus-2019-dataset\n",
    "\n",
    "4-) https://www.kaggle.com/sudalairajkumar/novel-corona-virus-2019-dataset/discussion/128708\n",
    "\n",
    "5-) https://ourworldindata.org/mortality-risk-covid\n",
    "\n",
    "6-) https://www.epicentro.iss.it/en/coronavirus/sars-cov-2-analysis-of-deaths\n",
    "\n",
    "7-) https://www.bilkav.com/makine-ogrenmesi-egitimi/ (Regression notebooks)\n",
    "\n",
    "8-) https://npgeo-corona-npgeo-de.hub.arcgis.com/\n",
    "\n",
    "9-) https://medium.com/@stallonejacob/time-series-forecast-a-basic-introduction-using-python-414fcb963000\n",
    "\n",
    "10-) https://www.kaggle.com/dkjung/covid-19-eda-s-korea-forecasting-global\n",
    "\n",
    "11-) https://www.kaggle.com/chaudharijay2000/prediction-of-death-and-confirmed-cases-covid-19"
   ]
  },
  {
   "cell_type": "code",
   "execution_count": null,
   "metadata": {},
   "outputs": [],
   "source": []
  }
 ],
 "metadata": {
  "kernelspec": {
   "display_name": "Python 3",
   "language": "python",
   "name": "python3"
  },
  "language_info": {
   "codemirror_mode": {
    "name": "ipython",
    "version": 3
   },
   "file_extension": ".py",
   "mimetype": "text/x-python",
   "name": "python",
   "nbconvert_exporter": "python",
   "pygments_lexer": "ipython3",
   "version": "3.7.5"
  }
 },
 "nbformat": 4,
 "nbformat_minor": 2
}
